{
 "cells": [
  {
   "cell_type": "markdown",
   "metadata": {},
   "source": [
    "# Guard Clauses\n",
    "## Beispiel"
   ]
  },
  {
   "cell_type": "code",
   "execution_count": 1,
   "metadata": {},
   "outputs": [],
   "source": [
    "def f(a, b):\n",
    "    if a > 10 and b > 10:\n",
    "        return a + b\n",
    "    else:\n",
    "        if a <= 10: return a * 2\n",
    "        if b <= 10: return b * 2"
   ]
  },
  {
   "cell_type": "markdown",
   "metadata": {},
   "source": [
    "Probleme in diesem Code:\n",
    "\n",
    "1. Funktion und Variablennamen: Die Funktion f und die Variablen a und b sind nicht aussagekräftig.\n",
    "2. Einzeilige if-Anweisung: Die Verwendung einer einzeiligen if-Anweisung reduziert die Lesbarkeit.\n",
    "3. Keine Konsistenz: Inkonsistente Verwendung von Einrückungen und Leerzeichen.\n",
    "4. Logik: Die Logik könnte klarer und effizienter gestaltet werden.\n",
    "\n",
    "## Verbesserte Version\n",
    "\n",
    "Jetzt sehen wir uns eine verbesserte Version des obigen Codes an:"
   ]
  },
  {
   "cell_type": "code",
   "execution_count": 2,
   "metadata": {},
   "outputs": [],
   "source": [
    "def sum_or_double(a, b):\n",
    "    if a > 10 and b > 10:\n",
    "        return a + b\n",
    "    if a <= 10:\n",
    "        return a * 2\n",
    "    else:\n",
    "        return b * 2"
   ]
  },
  {
   "cell_type": "markdown",
   "metadata": {},
   "source": [
    "**Diskussion: Vergleich der Beispiele**\n",
    "\n",
    "**Frage**: Welche Verbesserungen wurden gemacht?\n",
    "\n",
    "**Frage**: Welche weiteren Verbesserungen könnten an dem verbesserten Code vorgenommen werden?\n",
    "\n",
    "**Aktivität**: Versuchen Sie, den verbesserten Code weiter zu optimieren und diskutieren Sie Ihre Änderungen."
   ]
  },
  {
   "cell_type": "markdown",
   "metadata": {},
   "source": [
    "## Aufgabe 1: Anwendung von Guard Clauses\n",
    "\n",
    "Wandele die Funktion um, sodass sie mit Guard Clauses arbeitet."
   ]
  },
  {
   "cell_type": "code",
   "execution_count": 3,
   "metadata": {},
   "outputs": [],
   "source": [
    "def calculate_discount(price, discount, is_member):\n",
    "    if is_member:\n",
    "        if discount > 10:\n",
    "            return price * 0.9\n",
    "        else:\n",
    "            return price * 0.95\n",
    "    else:\n",
    "        if discount > 20:\n",
    "            return price * 0.85\n",
    "        else:\n",
    "            return price"
   ]
  },
  {
   "cell_type": "markdown",
   "metadata": {},
   "source": [
    "**Lösung**"
   ]
  },
  {
   "cell_type": "code",
   "execution_count": 4,
   "metadata": {},
   "outputs": [],
   "source": [
    "def calculate_discount_optimized(price, discount, is_member):\n",
    "    if is_member and discount > 10:\n",
    "        return price * 0.9\n",
    "    if is_member:\n",
    "        return price * 0.95\n",
    "    if discount > 20:\n",
    "        return price * 0.85\n",
    "    return price\n"
   ]
  },
  {
   "cell_type": "markdown",
   "metadata": {},
   "source": [
    "## Aufgabe 2: Anwendung von Guard Clauses\n",
    "\n",
    "Wandele die Funktion um, sodass sie mit Guard Clauses arbeitet."
   ]
  },
  {
   "cell_type": "code",
   "execution_count": 5,
   "metadata": {},
   "outputs": [],
   "source": [
    "def check_access(age, has_ticket, special_pass):\n",
    "    if age > 18:\n",
    "        if has_ticket:\n",
    "            return \"Access granted\"\n",
    "        else:\n",
    "            return \"No ticket\"\n",
    "    else:\n",
    "        if special_pass:\n",
    "            return \"Access granted\"\n",
    "        else:\n",
    "            return \"Access denied\""
   ]
  },
  {
   "cell_type": "markdown",
   "metadata": {},
   "source": [
    "**Lösung:**"
   ]
  },
  {
   "cell_type": "code",
   "execution_count": 6,
   "metadata": {},
   "outputs": [],
   "source": [
    "def check_access_optimized(age, has_ticket, special_pass):\n",
    "    if age > 18 and has_ticket:\n",
    "        return \"Access granted\"\n",
    "    if age <= 18 and special_pass:\n",
    "        return \"Access granted\"\n",
    "    if age > 18 and not has_ticket:\n",
    "        return \"No ticket\"\n",
    "    return \"Access denied\""
   ]
  },
  {
   "cell_type": "markdown",
   "metadata": {},
   "source": [
    "## Aufgabe 3: Anwendung von Guard Clauses\n",
    "\n",
    "- Wandeln Sie den Code so um, dass Guard Clauses verwendet werden, um die Verschachtelung von if-Anweisungen zu reduzieren.\n",
    "\n",
    "- Schreiben Sie einige Testfälle, um zu überprüfen, ob Ihre optimierte Funktion korrekt funktioniert. Testen Sie verschiedene Kombinationen von role, age und account_status."
   ]
  },
  {
   "cell_type": "code",
   "execution_count": 7,
   "metadata": {},
   "outputs": [],
   "source": [
    "def user_permission_check(role, age, account_status):\n",
    "    if role == \"admin\":\n",
    "        if age >= 18:\n",
    "            if account_status == \"active\":\n",
    "                return \"Zugriff gewährt\"\n",
    "            else:\n",
    "                return \"Account inaktiv\"\n",
    "        else:\n",
    "            return \"Zu jung\"\n",
    "    else:\n",
    "        if account_status == \"active\":\n",
    "            if age >= 18:\n",
    "                return \"Zugriff eingeschränkt\"\n",
    "            else:\n",
    "                return \"Zugriff verweigert\"\n",
    "        else:\n",
    "            return \"Account inaktiv\""
   ]
  },
  {
   "cell_type": "markdown",
   "metadata": {},
   "source": [
    "**Lösung**"
   ]
  },
  {
   "cell_type": "code",
   "execution_count": 8,
   "metadata": {},
   "outputs": [
    {
     "name": "stdout",
     "output_type": "stream",
     "text": [
      "Zugriff gewährt\n",
      "Zu jung\n",
      "Zugriff eingeschränkt\n",
      "Account inaktiv\n"
     ]
    }
   ],
   "source": [
    "def user_permission_check_optimized(role, age, account_status):\n",
    "    if account_status != \"active\":\n",
    "        return \"Account inaktiv\"\n",
    "\n",
    "    if role != \"admin\" and age < 18:\n",
    "        return \"Zugriff verweigert\"\n",
    "\n",
    "    if role == \"admin\" and age >= 18:\n",
    "        return \"Zugriff gewährt\"\n",
    "\n",
    "    if age >= 18:\n",
    "        return \"Zugriff eingeschränkt\"\n",
    "\n",
    "    return \"Zu jung\"\n",
    "\n",
    "print(user_permission_check_optimized(\"admin\", 20, \"active\"))  # Erwartet: \"Zugriff gewährt\"\n",
    "print(user_permission_check_optimized(\"admin\", 17, \"active\"))  # Erwartet: \"Zu jung\"\n",
    "print(user_permission_check_optimized(\"user\", 20, \"active\"))   # Erwartet: \"Zugriff eingeschränkt\"\n",
    "print(user_permission_check_optimized(\"user\", 17, \"inactive\")) # Erwartet: \"Account inaktiv\""
   ]
  }
 ],
 "metadata": {
  "kernelspec": {
   "display_name": "venv",
   "language": "python",
   "name": "python3"
  },
  "language_info": {
   "codemirror_mode": {
    "name": "ipython",
    "version": 3
   },
   "file_extension": ".py",
   "mimetype": "text/x-python",
   "name": "python",
   "nbconvert_exporter": "python",
   "pygments_lexer": "ipython3",
   "version": "3.10.12"
  }
 },
 "nbformat": 4,
 "nbformat_minor": 2
}
