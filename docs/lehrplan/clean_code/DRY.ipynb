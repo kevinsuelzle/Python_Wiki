{
 "cells": [
  {
   "cell_type": "markdown",
   "metadata": {},
   "source": [
    "# DRY - Don't Repeat Yourself\n",
    "\n",
    "## Beispiel"
   ]
  },
  {
   "cell_type": "code",
   "execution_count": 1,
   "metadata": {},
   "outputs": [
    {
     "name": "stdout",
     "output_type": "stream",
     "text": [
      "16 25 36\n"
     ]
    }
   ],
   "source": [
    "# Berechnung des Quadrats von Zahlen\n",
    "num1 = 4\n",
    "quadrat_num1 = num1 * num1\n",
    "\n",
    "num2 = 5\n",
    "quadrat_num2 = num2 * num2\n",
    "\n",
    "num3 = 6\n",
    "quadrat_num3 = num3 * num3\n",
    "\n",
    "print(quadrat_num1, quadrat_num2, quadrat_num3)"
   ]
  },
  {
   "cell_type": "markdown",
   "metadata": {},
   "source": [
    "Funktionen reduzieren die Code-Menge und erhöhen die Wartbarkeit."
   ]
  },
  {
   "cell_type": "code",
   "execution_count": null,
   "metadata": {},
   "outputs": [],
   "source": [
    "def quadrat(zahl):\n",
    "    return zahl * zahl\n",
    "\n",
    "\n",
    "num1 = 4\n",
    "num2 = 5\n",
    "num3 = 6\n",
    "\n",
    "quadrat_num1 = quadrat(num1)\n",
    "quadrat_num2 = quadrat(num2)\n",
    "quadrat_num3 = quadrat(num3)\n",
    "\n",
    "print(quadrat_num1, quadrat_num2, quadrat_num3)"
   ]
  },
  {
   "cell_type": "markdown",
   "metadata": {},
   "source": [
    "Das obige Beispiel ist sehr trivial. Man könnte sagen: \"Ist doch klar, was soll das?\". Also warum wird dieser\n",
    "Punkt hier aufgelistet?\n",
    "\n",
    "Funktionen und Prozeduren sind zentrale Elemente in der Programmierung, um wiederholten Code zu vermeiden und gehören zu\n",
    "den ältesten Programmierparadigmen. Ihre Effizienz ist sogar auf Prozessorebene verankert: Wenn eine Funktion aufgerufen\n",
    "wird, speichert der Prozessor die Adresse, an die nach Beendigung der Funktion zurückgekehrt wird, in einem speziellen\n",
    "Speicherbereich. Dies ermöglicht eine nahtlose und zeiteffiziente Fortsetzung des Programms.\n",
    "\n",
    "Einer der Hauptvorteile dieses Ansatzes ist, dass Änderungen nur an einer Stelle im Code vorgenommen werden müssen, was\n",
    "die Wartung und Aktualisierung von Software erheblich vereinfacht.\n",
    "\n",
    "Allerdings ist es in der modernen Softwareentwicklung oft eine Herausforderung, redundante Codeabschnitte zu\n",
    "identifizieren, da diese nicht immer offensichtlich sind. Dies kann in der Komplexität des eigenen Codeabschnitts oder\n",
    "in umfangreichen Projekten mit mehreren Entwicklern begründet sein, die möglicherweise denselben Code schreiben, ohne es\n",
    "zu bemerken. Hier sind Code-Bibliotheken, ein bewusster Blick über den eigenen Code hinaus und eine durchdachte\n",
    "Softwarearchitektur hilfreich.\n",
    "\n",
    "Es erfordert jedoch auch einiges an Erfahrung, effektive Lösungen zur Vermeidung von Redundanz zu entwickeln und\n",
    "anzuwenden. Das Erkennen und Umstrukturieren von wiederholtem Code in effizientere, modulare Strukturen ist eine\n",
    "Fähigkeit, die sich Entwickler im Laufe der Zeit aneignen und die für die Erstellung wartbarer, skalierbarer und\n",
    "effizienter Software unerlässlich ist.\n",
    "\n",
    "## Aufgabe: Löse die Code Duplikationen auf."
   ]
  },
  {
   "cell_type": "code",
   "execution_count": 3,
   "metadata": {},
   "outputs": [
    {
     "name": "stdout",
     "output_type": "stream",
     "text": [
      "[{'name': 'Kunde1', 'email': 'kunde1@example.com'}]\n",
      "[{'name': 'Mitarbeiter1', 'email': 'mitarbeiter1@example.com'}]\n"
     ]
    }
   ],
   "source": [
    "def verarbeite_kundendaten(kunden_liste):\n",
    "    # Verarbeite Kundendaten\n",
    "    verarbeitete_daten = []\n",
    "    for kunde in kunden_liste:\n",
    "        # Nehmen wir an, es gibt einige komplexe Logiken\n",
    "        verarbeitete_daten.append({\n",
    "            \"name\": kunde[\"name\"],\n",
    "            \"email\": kunde[\"email\"],\n",
    "            # Weitere spezifische Logik für Kunden\n",
    "        })\n",
    "    return verarbeitete_daten\n",
    "\n",
    "\n",
    "def verarbeite_mitarbeiterdaten(arbeiter_liste):\n",
    "    # Verarbeite Mitarbeiterdaten\n",
    "    verarbeitete_daten = []\n",
    "    for arbeiter in arbeiter_liste:\n",
    "        # Ähnliche Logik wie bei Kunden, aber leicht unterschiedlich\n",
    "        verarbeitete_daten.append({\n",
    "            \"name\": arbeiter[\"name\"],\n",
    "            \"email\": arbeiter[\"email\"],\n",
    "            # Weitere spezifische Logik für Mitarbeiter\n",
    "        })\n",
    "    return verarbeitete_daten\n",
    "\n",
    "\n",
    "# Beispielaufrufe\n",
    "kunden = [{\"name\": \"Kunde1\", \"email\": \"kunde1@example.com\"}]\n",
    "mitarbeiter = [{\"name\": \"Mitarbeiter1\", \"email\": \"mitarbeiter1@example.com\"}]\n",
    "\n",
    "verarbeitete_kunden = verarbeite_kundendaten(kunden)\n",
    "verarbeitete_mitarbeiter = verarbeite_mitarbeiterdaten(mitarbeiter)\n",
    "\n",
    "print(verarbeitete_kunden)\n",
    "print(verarbeitete_mitarbeiter)"
   ]
  },
  {
   "cell_type": "markdown",
   "metadata": {},
   "source": [
    "**Lösung**"
   ]
  },
  {
   "cell_type": "code",
   "execution_count": 4,
   "metadata": {},
   "outputs": [
    {
     "name": "stdout",
     "output_type": "stream",
     "text": [
      "[{'name': 'Kunde1', 'email': 'kunde1@example.com', 'datentyp': 'Kunde'}]\n",
      "[{'name': 'Mitarbeiter1', 'email': 'mitarbeiter1@example.com', 'datentyp': 'Mitarbeiter'}]\n"
     ]
    }
   ],
   "source": [
    "def verarbeite_daten(daten_liste, datentyp):\n",
    "    # Verarbeite Daten (allgemeine Logik)\n",
    "    verarbeitete_daten = []\n",
    "    for daten in daten_liste:\n",
    "        # Gemeinsame Logik für alle Datentypen\n",
    "        verarbeitete_daten.append({\n",
    "            \"name\": daten[\"name\"],\n",
    "            \"email\": daten[\"email\"],\n",
    "            # Weitere spezifische Logik für den gegebenen Datentyp\n",
    "            \"datentyp\": datentyp,\n",
    "        })\n",
    "    return verarbeitete_daten\n",
    "\n",
    "# Beispielaufrufe\n",
    "kunden = [{\"name\": \"Kunde1\", \"email\": \"kunde1@example.com\"}]\n",
    "mitarbeiter = [{\"name\": \"Mitarbeiter1\", \"email\": \"mitarbeiter1@example.com\"}]\n",
    "\n",
    "verarbeitete_kunden = verarbeite_daten(kunden, \"Kunde\")\n",
    "verarbeitete_mitarbeiter = verarbeite_daten(mitarbeiter, \"Mitarbeiter\")\n",
    "\n",
    "print(verarbeitete_kunden)\n",
    "print(verarbeitete_mitarbeiter)"
   ]
  },
  {
   "cell_type": "markdown",
   "metadata": {},
   "source": [
    "Die Überarbeitung des Codes bringt folgende Vorteile:\n",
    "\n",
    "1. **Reduzierung von Code-Duplikation**: Im Originalcode gab es zwei sehr ähnliche Funktionen (`verarbeite_kundendaten` und `verarbeite_mitarbeiterdaten`), die im Wesentlichen das gleiche taten, aber für unterschiedliche Datentypen (Kunden und Mitarbeiter). Die überarbeitete Version konsolidiert diese beiden Funktionen zu einer einzigen Funktion (`verarbeite_daten`), die flexibel für verschiedene Datentypen verwendet werden kann. Das verringert die Menge an redundantem Code und erleichtert die Wartung.\n",
    "\n",
    "2. **Erweiterbarkeit und Flexibilität**: Die neue Funktion `verarbeite_daten` ist flexibler und kann leichter für zusätzliche Datentypen erweitert werden, ohne separate Funktionen für jeden neuen Datentyp erstellen zu müssen. Man muss lediglich einen neuen Datentyp als Parameter übergeben.\n",
    "\n",
    "3. **Klarheit und Lesbarkeit**: Die überarbeitete Funktion ist einfacher zu verstehen, da sie die gemeinsame Logik in einer einzigen Funktion zentralisiert. Das macht den Code insgesamt lesbarer und leichter nachvollziehbar.\n",
    "\n",
    "4. **Hinzufügen von Kontext**: Durch das Hinzufügen des `datentyp`-Feldes zu den verarbeiteten Daten wird zusätzlicher Kontext bereitgestellt, der in der ursprünglichen Version fehlte. Dies kann nützlich sein, um die verarbeiteten Daten später im Programmablauf leichter unterscheiden zu können.\n",
    "\n",
    "Zusammenfassend macht die überarbeitete Version den Code sauberer, wartbarer und flexibler, ohne die grundlegende Funktionalität zu beeinträchtigen."
   ]
  },
  {
   "cell_type": "markdown",
   "metadata": {},
   "source": [
    "**Aufgabe**: Finde Ausnahmen zur DRY-Regel\n",
    "[zurück](../TheGoodPractices)"
   ]
  }
 ],
 "metadata": {
  "kernelspec": {
   "display_name": "venv",
   "language": "python",
   "name": "python3"
  },
  "language_info": {
   "codemirror_mode": {
    "name": "ipython",
    "version": 3
   },
   "file_extension": ".py",
   "mimetype": "text/x-python",
   "name": "python",
   "nbconvert_exporter": "python",
   "pygments_lexer": "ipython3",
   "version": "3.10.12"
  }
 },
 "nbformat": 4,
 "nbformat_minor": 2
}
