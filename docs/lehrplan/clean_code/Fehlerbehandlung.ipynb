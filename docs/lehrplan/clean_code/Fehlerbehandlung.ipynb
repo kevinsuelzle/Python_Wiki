{
 "cells": [
  {
   "cell_type": "markdown",
   "metadata": {},
   "source": [
    "# Fehlerbehandlung\n",
    "## Beispiel:"
   ]
  },
  {
   "cell_type": "code",
   "execution_count": null,
   "metadata": {},
   "outputs": [],
   "source": [
    "def divide(a, b):\n",
    "    return a / b"
   ]
  },
  {
   "cell_type": "markdown",
   "metadata": {},
   "source": [
    "Es ist wichtig, Ausnahmen zu behandeln, um unerwartete Abstürze zu vermeiden.\n",
    "Im Fall einer Division sollten wir insbesondere eine Division durch `0` abfangen.\n",
    "Beim Abfangen könnten wir den Code weiter laufen lassen:"
   ]
  },
  {
   "cell_type": "code",
   "execution_count": null,
   "metadata": {},
   "outputs": [],
   "source": [
    "def divide(a, b):\n",
    "    try:\n",
    "        return a / b\n",
    "    except ZeroDivisionError:\n",
    "        print(\"Fehler: Division durch Null.\")\n",
    "        return None"
   ]
  },
  {
   "cell_type": "markdown",
   "metadata": {},
   "source": [
    "oder wir lassen das programm abbrechen:"
   ]
  },
  {
   "cell_type": "code",
   "execution_count": null,
   "metadata": {},
   "outputs": [],
   "source": [
    "import sys\n",
    "\n",
    "def divide(a, b):\n",
    "    try:\n",
    "        return a / b\n",
    "    except ZeroDivisionError:\n",
    "        print(\"Fehler: Division durch Null.\")\n",
    "        sys.exit(1)"
   ]
  },
  {
   "cell_type": "markdown",
   "metadata": {},
   "source": [
    "Anderfalls wird die Exeption als Rückgabe der Methode nach außen weitergeleitet und der Aufrufer von `devide` ist für diese verantworlich.\n",
    "Entweder er fängt sie selbt in einem Try-Catch block oder gibt sie weiter.\n",
    "\n",
    "## Das \"Finally\" Statement\n",
    "Um die reibungslose und ordnungsgemäße Abwicklung von Prozessen zu gewährleisten, ist der Einsatz eines \"finally\" Blocks oft empfehlenswert. In Python dient dieser Block dazu, bestimmte Aufräum- oder Abschlussarbeiten zu garantieren, unabhängig davon, ob während der Ausführung eine Ausnahme aufgetreten ist oder nicht. Dies erweist sich als besonders vorteilhaft beim Umgang mit Ressourcen wie Dateien oder Netzwerkverbindungen, da der \"finally\" Block sicherstellt, dass diese Ressourcen korrekt geschlossen oder freigegeben werden, um das Entstehen von Ressourcenlecks zu verhindern."
   ]
  },
  {
   "cell_type": "code",
   "execution_count": null,
   "metadata": {},
   "outputs": [],
   "source": [
    "def datei_bearbeiten(dateipfad):\n",
    "    try:\n",
    "        datei = open(dateipfad, 'r')\n",
    "        daten = datei.read()\n",
    "        # Weiterverarbeitung der Daten\n",
    "    except IOError:\n",
    "        print(\"Fehler beim Lesen der Datei.\")\n",
    "    finally:\n",
    "        # Dieser Block wird immer ausgeführt\n",
    "        datei.close()\n",
    "        print(\"Die Datei wurde geschlossen.\")\n",
    "    return daten\n",
    "\n",
    "print(datei_bearbeiten(\"beispieldatei.txt\"))"
   ]
  },
  {
   "cell_type": "markdown",
   "metadata": {},
   "source": [
    "## Das \"with\" Statement\n",
    "\n",
    "Das \"with\" Statement ist eine spezielle Form des \"try\" Statements, die es ermöglicht, Ressourcen wie Dateien oder Netzwerkverbindungen zu öffnen und zu schließen. Es ist eine gute Praxis, Ressourcen mit dem \"with\" Statement zu öffnen, da es sicherstellt, dass die Ressource nach der Verwendung geschlossen wird, selbst wenn während der Ausführung eine Ausnahme auftritt.\n",
    "\n",
    "Die Methoden __enter__ und __exit__ in Klassen sind Teil des sogenannten Context Management Protocols in Python und sind eng mit dem with-Statement verbunden. Sie ermöglichen es einer Klasse, als Kontextmanager zu agieren, wodurch bestimmte Aktionen beim Betreten und Verlassen eines Kontexts automatisiert werden können. Diese Methoden sind besonders nützlich für Ressourcenmanagement, wie das sichere Öffnen und Schließen von Dateien oder Netzwerkverbindungen.\n",
    "\n",
    "**Bedeutung:**\n",
    "\n",
    "1. **`__enter__(self)`:**\n",
    "   - Diese Methode wird aufgerufen, wenn der Ausführungskontext durch das `with`-Statement betreten wird.\n",
    "   - Sie bereitet die Ressourcen vor oder führt Initialisierungen durch, die für den Kontext erforderlich sind.\n",
    "   - Der Rückgabewert von `__enter__` wird an die Variable zugewiesen, die optional nach dem `as` im `with`-Statement steht.\n",
    "\n",
    "2. **`__exit__(self, exc_type, exc_value, traceback)`:**\n",
    "   - Diese Methode wird aufgerufen, wenn der Ausführungskontext verlassen wird, das heißt am Ende des `with`-Blocks oder wenn innerhalb des Blocks eine Ausnahme auftritt.\n",
    "   - Sie ist verantwortlich für das Aufräumen oder Schließen von Ressourcen.\n",
    "   - Die Parameter `exc_type`, `exc_value` und `traceback` enthalten Informationen über eine etwaige Ausnahme, die im `with`-Block aufgetreten ist. Wenn der Block ohne Ausnahme verlassen wird, sind alle drei Werte `None`.\n",
    "\n",
    "**Syntax:**\n",
    "\n",
    "Anbei ein einfaches Beispiel für eine Klasse mit implementierten `__enter__` und `__exit__` Methoden:"
   ]
  },
  {
   "cell_type": "code",
   "execution_count": null,
   "metadata": {},
   "outputs": [],
   "source": [
    "class MeinKontextManager:\n",
    "    def __enter__(self):\n",
    "        # Initialisierungen oder Ressourcen öffnen\n",
    "        return self  # oder ein anderes Objekt\n",
    "\n",
    "    def __exit__(self, exc_type, exc_value, traceback):\n",
    "        # Aufräumen oder Ressourcen schließen\n",
    "        # Kann True zurückgeben, um eine Ausnahme zu unterdrücken, sonst None"
   ]
  },
  {
   "cell_type": "markdown",
   "metadata": {},
   "source": [
    "## Verwendung des `with`-Statement:"
   ]
  },
  {
   "cell_type": "code",
   "execution_count": null,
   "metadata": {},
   "outputs": [],
   "source": [
    "with MeinKontextManager() as manager:\n",
    "    # Aktionen innerhalb des Kontextes\n",
    "    pass"
   ]
  },
  {
   "cell_type": "markdown",
   "metadata": {},
   "source": [
    "In diesem Beispiel kümmert sich `MeinKontextManager` automatisch um das Öffnen und Schließen oder Initialisieren und Aufräumen der Ressourcen beim Betreten und Verlassen des `with`-Blocks."
   ]
  },
  {
   "cell_type": "markdown",
   "metadata": {},
   "source": [
    "## Aufgabe: Context Manager\n",
    "\n",
    "**Ziel:** Verstehen der Verwendung des `with`-Statements in Kombination mit einer Klasse in Python.\n",
    "\n",
    "**Aufgabe:** Gegeben ist eine Beispielklasse `MeineRessource`, die das Context Management Protocol implementiert, um sicherzustellen, dass Ressourcen ordnungsgemäß geöffnet und geschlossen werden. Ihre Aufgabe ist es, die Klasse so zu modifizieren, dass sie das `with`-Statement unterstützt, um eine Ressource zu öffnen und automatisch zu schließen. \n",
    "\n",
    "**Vorgaben:**\n",
    "1. Implementieren Sie die Methoden `__enter__` und `__exit__` in der Klasse `MeineRessource`.\n",
    "2. `__enter__` soll eine Nachricht ausgeben, die anzeigt, dass die Ressource geöffnet wird.\n",
    "3. `__exit__` soll eine Nachricht ausgeben, die anzeigt, dass die Ressource geschlossen wird und sie soll die Ressource schließen.\n",
    "4. Verwenden Sie die Klasse in einem `with`-Block, um zu demonstrieren, dass sie wie beabsichtigt funktioniert.\n",
    "\n",
    "**Beispielcode:**"
   ]
  },
  {
   "cell_type": "code",
   "execution_count": null,
   "metadata": {},
   "outputs": [],
   "source": [
    "class MeineRessource:\n",
    "    def oeffnen(self):\n",
    "        print(\"Ressource geöffnet\")\n",
    "\n",
    "    def schliessen(self):\n",
    "        print(\"Ressource geschlossen\")\n",
    "\n",
    "# Beispiel zur Verwendung der Klasse (dies soll modifiziert werden)\n",
    "ressource = MeineRessource()\n",
    "ressource.oeffnen()\n",
    "# Code zur Nutzung der Ressource\n",
    "ressource.schliessen()"
   ]
  },
  {
   "cell_type": "markdown",
   "metadata": {},
   "source": [
    "\n",
    "**Lösung**"
   ]
  },
  {
   "cell_type": "markdown",
   "metadata": {},
   "source": [
    "**Modifizierte Klasse:**"
   ]
  },
  {
   "cell_type": "code",
   "execution_count": null,
   "metadata": {},
   "outputs": [],
   "source": [
    "class MeineRessource:\n",
    "    def __enter__(self):\n",
    "        print(\"Ressource geöffnet\")\n",
    "        return self\n",
    "\n",
    "    def __exit__(self, exc_type, exc_val, exc_tb):\n",
    "        print(\"Ressource geschlossen\")\n",
    "        self.schliessen()\n",
    "\n",
    "    def oeffnen(self):\n",
    "        print(\"Ressource wird für die Arbeit vorbereitet\")\n",
    "\n",
    "    def schliessen(self):\n",
    "        print(\"Aufräumarbeiten an der Ressource werden durchgeführt\")\n",
    "\n",
    "# Beispiel zur Verwendung der Klasse mit einem \"with\"-Statement\n",
    "with MeineRessource() as ressource:\n",
    "    # Code zur Nutzung der Ressource\n",
    "    pass"
   ]
  },
  {
   "cell_type": "markdown",
   "metadata": {},
   "source": [
    "**Erklärung:**\n",
    "- Die Methode `__enter__` wird automatisch aufgerufen, wenn der `with`-Block betreten wird. Sie initialisiert die Ressource und gibt `self` zurück, sodass auf die Ressourceninstanz im `with`-Block zugegriffen werden kann.\n",
    "- Die Methode `__exit__` wird automatisch aufgerufen, wenn der `with`-Block verlassen wird, unabhängig davon, ob eine Ausnahme aufgetreten ist oder nicht. Sie ist verantwortlich für das Schließen der Ressource.\n",
    "- Innerhalb des `with`-Blocks kann die Ressource wie gewohnt verwendet werden. Nachdem der Block verlassen wird, sorgt das Context Management Protocol automatisch dafür, dass die Ressource ordnungsgemäß geschlossen wird."
   ]
  }
 ],
 "metadata": {
  "language_info": {
   "name": "python"
  }
 },
 "nbformat": 4,
 "nbformat_minor": 2
}
