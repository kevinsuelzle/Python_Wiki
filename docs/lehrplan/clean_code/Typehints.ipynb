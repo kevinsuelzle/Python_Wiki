{
 "cells": [
  {
   "cell_type": "markdown",
   "metadata": {},
   "source": [
    "# Typenhinweise\n",
    "[30 min]\n",
    "\n",
    "Python-Typenhinweise sind Annotationen, die zu Funktions- und Variablendeklarationen hinzugefügt werden, um die erwarteten Datentypen von Funktionsparametern, Rückgabewerten und Variablen anzugeben. Sie werden verwendet, um statische Typüberprüfungsinformationen an Tools wie Linter, IDEs und Typüberprüfer (z. B. mypy) bereitzustellen, ohne das Laufzeitverhalten des Codes zu beeinflussen. Typenhinweise helfen Entwicklern dabei, typbezogene Fehler frühzeitig im Entwicklungsprozess zu erkennen und den Code verständlicher zu machen.\n",
    "\n",
    "Typenhinweise wurden in Python 3.5 eingeführt und sind mit der Einführung des Typisierungsmoduls (Typing-Modul) immer beliebter geworden. Hier sind einige häufige Typen-Annotationsanmerkungen:\n",
    "\n",
    "**Funktionsannotationen:**\n",
    "\n",
    "   - Um den Typ der Parameter einer Funktion anzugeben, können Sie das `->`-Symbol verwenden, um den Rückgabetyp anzugeben."
   ]
  },
  {
   "cell_type": "code",
   "execution_count": null,
   "metadata": {},
   "outputs": [],
   "source": [
    "def grüße(name: str) -> str:\n",
    "    return f\"Hallo, {name}\""
   ]
  },
  {
   "cell_type": "markdown",
   "metadata": {},
   "source": [
    "**Variablen**\n",
    "\n",
    "- Sie können Variablen mithilfe eines Doppelpunkts und des Typs nach dem Namen der Variable annotieren."
   ]
  },
  {
   "cell_type": "code",
   "execution_count": null,
   "metadata": {},
   "outputs": [],
   "source": [
    "anzahl: int = 10"
   ]
  },
  {
   "cell_type": "markdown",
   "metadata": {},
   "source": [
    "**Optionale Typen**\n",
    "   \n",
    "- Sie können angeben, dass eine Variable oder ein Funktionsparameter einen bestimmten Typ oder `None` (also optional) sein kann, indem Sie die Typenhinweis `Union` verwenden."
   ]
  },
  {
   "cell_type": "code",
   "execution_count": null,
   "metadata": {},
   "outputs": [],
   "source": [
    "from typing import Union\n",
    "\n",
    "def addiere_oder_none(a: int, b: int) -> Union[int, None]:\n",
    "   if a is not None and b is not None:\n",
    "       return a + b\n",
    "   else:\n",
    "       return None"
   ]
  },
  {
   "cell_type": "markdown",
   "metadata": {},
   "source": [
    "**Listen und Dictionaries**\n",
    "\n",
    "- Sie können Listen und Dictionaries mit den Typen ihrer Elemente oder Schlüssel und Werte annotieren."
   ]
  },
  {
   "cell_type": "code",
   "execution_count": null,
   "metadata": {},
   "outputs": [],
   "source": [
    "from typing import List, Dict\n",
    "\n",
    "namen: List[str] = [\"Alice\", \"Bob\", \"Charlie\"]\n",
    "person: Dict[str, int] = {\"Alice\": 30, \"Bob\": 25}"
   ]
  },
  {
   "cell_type": "markdown",
   "metadata": {},
   "source": [
    "**Typaliasen**\n",
    "\n",
    "- Sie können benutzerdefinierte Typaliasen erstellen, indem Sie den Typenhinweis `Type` verwenden, um Ihre Typenanmerkungen leserlicher zu gestalten."
   ]
  },
  {
   "cell_type": "code",
   "execution_count": null,
   "metadata": {},
   "outputs": [],
   "source": [
    "from typing import Type\n",
    "\n",
    "BenutzerId = int\n",
    "BenutzerDict = Dict[BenutzerId, str]"
   ]
  },
  {
   "cell_type": "markdown",
   "metadata": {},
   "source": [
    "**Generika**\n",
    "\n",
    "- Python unterstützt Generika, mit denen Sie Funktionen und Klassen erstellen können, die mit mehreren Datentypen arbeiten können."
   ]
  },
  {
   "cell_type": "code",
   "execution_count": null,
   "metadata": {},
   "outputs": [],
   "source": [
    "from typing import List, TypeVar\n",
    "\n",
    "T = TypeVar('T')  # Typvariable\n",
    "def hole_erstes_element(elemente: List[T]) -> T:\n",
    "    return elemente[0]"
   ]
  },
  {
   "cell_type": "markdown",
   "metadata": {},
   "source": [
    "Typenhinweise werden zur Laufzeit nicht durchgesetzt, was bedeutet, dass Python keinen Fehler auslöst, wenn die tatsächlichen Datentypen nicht mit den Hinweisen übereinstimmen. Typüberprüfer wie mypy können jedoch Ihren Code analysieren und typbezogene Probleme melden, um Ihnen bei der Erstellung robusteren und wartbareren Code zu helfen.\n",
    "\n",
    "## Aufgabe 1: Füge Typehints hinzu 🌶️🌶️\n",
    "[20 min]\n",
    "\n",
    "Füge Typehints zu den folgenden Funktionen hinzu, um die erwarteten Datentypen der Parameter und Rückgabewerte anzugeben."
   ]
  },
  {
   "cell_type": "code",
   "execution_count": null,
   "metadata": {},
   "outputs": [],
   "source": [
    "def add(a, b):\n",
    "    return a + b\n",
    "\n",
    "def multiply(numbers):\n",
    "    result = 1\n",
    "    for num in numbers:\n",
    "        result *= num\n",
    "    return result\n",
    "\n",
    "def find_max(data):\n",
    "    max_value = data[0]\n",
    "    for item in data:\n",
    "        if item > max_value:\n",
    "            max_value = item\n",
    "    return max_value\n",
    "\n",
    "def greet(name):\n",
    "    return f\"Hello, {name}\"\n",
    "\n",
    "# Beispielaufrufe der Funktionen\n",
    "result1 = add(5, 3)\n",
    "result2 = multiply([2, 4, 6])\n",
    "result3 = find_max([10, 7, 15, 3])\n",
    "message = greet(\"Alice\")\n",
    "\n",
    "# Ausgabe der Ergebnisse\n",
    "print(result1)\n",
    "print(result2)\n",
    "print(result3)\n",
    "print(message)"
   ]
  },
  {
   "cell_type": "markdown",
   "metadata": {},
   "source": [
    "**Lösung**"
   ]
  },
  {
   "cell_type": "code",
   "execution_count": null,
   "metadata": {},
   "outputs": [],
   "source": [
    "from typing import List\n",
    "\n",
    "def add(a: int, b: int) -> int:\n",
    "    return a + b\n",
    "\n",
    "def multiply(numbers: List[int]) -> int:\n",
    "    result = 1\n",
    "    for num in numbers:\n",
    "        result *= num\n",
    "    return result\n",
    "\n",
    "def find_max(data: List[int]) -> int:\n",
    "    max_value = data[0]\n",
    "    for item in data:\n",
    "        if item > max_value:\n",
    "            max_value = item\n",
    "    return max_value\n",
    "\n",
    "def greet(name: str) -> str:\n",
    "    return f\"Hello, {name}\"\n",
    "\n",
    "# Beispielaufrufe der Funktionen\n",
    "result1 = add(5, 3)\n",
    "result2 = multiply([2, 4, 6])\n",
    "result3 = find_max([10, 7, 15, 3])\n",
    "message = greet(\"Alice\")\n",
    "\n",
    "# Ausgabe der Ergebnisse\n",
    "print(result1)\n",
    "print(result2)\n",
    "print(result3)\n",
    "print(message)"
   ]
  },
  {
   "cell_type": "markdown",
   "metadata": {},
   "source": [
    "## Aufgabe 2: Typehints für komplexe Datentypen 🌶️🌶️🌶️\n",
    "[20 min]\n",
    "\n",
    "Füge Typehints zu den folgenden Funktionen hinzu, um die erwarteten Datentypen der Parameter und Rückgabewerte anzugeben."
   ]
  },
  {
   "cell_type": "code",
   "execution_count": null,
   "metadata": {},
   "outputs": [],
   "source": [
    "def add_or_subtract(a, b, operation):\n",
    "    if operation == \"add\":\n",
    "        return a + b\n",
    "    elif operation == \"subtract\":\n",
    "        return a - b\n",
    "    else:\n",
    "        return \"Invalid operation\"\n",
    "\n",
    "def process_data(data):\n",
    "    if isinstance(data, int):\n",
    "        return data * 2\n",
    "    elif isinstance(data, str):\n",
    "        return data.upper()\n",
    "    else:\n",
    "        return \"Unsupported data type\"\n",
    "\n",
    "# Beispielaufrufe der Funktionen\n",
    "result1 = add_or_subtract(5, 3, \"add\")\n",
    "result2 = add_or_subtract(10, 4, \"subtract\")\n",
    "result3 = add_or_subtract(5, 3, \"multiply\")  # Ungültige Operation\n",
    "result4 = process_data(42)\n",
    "result5 = process_data(\"hello\")\n",
    "result6 = process_data([1, 2, 3])  # Nicht unterstützter Datentyp\n",
    "\n",
    "# Ausgabe der Ergebnisse\n",
    "print(result1)\n",
    "print(result2)\n",
    "print(result3)\n",
    "print(result4)\n",
    "print(result5)\n",
    "print(result6)"
   ]
  },
  {
   "cell_type": "markdown",
   "metadata": {},
   "source": [
    "**Lösung**"
   ]
  },
  {
   "cell_type": "code",
   "execution_count": null,
   "metadata": {},
   "outputs": [],
   "source": [
    "from typing import Union\n",
    "\n",
    "def add_or_subtract(a: Union[int, float], b: Union[int, float], operation: str) -> Union[int, float, str]:\n",
    "    if operation == \"add\":\n",
    "        return a + b\n",
    "    elif operation == \"subtract\":\n",
    "        return a - b\n",
    "    else:\n",
    "        return \"Invalid operation\"\n",
    "\n",
    "def process_data(data: Union[int, str]) -> Union[int, str]:\n",
    "    if isinstance(data, int):\n",
    "        return data * 2\n",
    "    elif isinstance(data, str):\n",
    "        return data.upper()\n",
    "    else:\n",
    "        return \"Unsupported data type\"\n",
    "\n",
    "# Beispielaufrufe der Funktionen\n",
    "result1 = add_or_subtract(5, 3, \"add\")\n",
    "result2 = add_or_subtract(10, 4, \"subtract\")\n",
    "result3 = add_or_subtract(5, 3, \"multiply\")  # Ungültige Operation\n",
    "result4 = process_data(42)\n",
    "result5 = process_data(\"hello\")\n",
    "result6 = process_data([1, 2, 3])  # Nicht unterstützter Datentyp\n",
    "\n",
    "# Ausgabe der Ergebnisse\n",
    "print(result1)\n",
    "print(result2)\n",
    "print(result3)\n",
    "print(result4)\n",
    "print(result5)\n",
    "print(result6)"
   ]
  }
 ],
 "metadata": {
  "language_info": {
   "name": "python"
  }
 },
 "nbformat": 4,
 "nbformat_minor": 2
}
