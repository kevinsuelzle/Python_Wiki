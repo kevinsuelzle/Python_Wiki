{
 "cells": [
  {
   "cell_type": "markdown",
   "metadata": {},
   "source": [
    "# List Comprehensions\n",
    "[30 min]\n",
    "\n",
    "List comprehensions sind ein sehr nützliches Werkzeug, das Python bietet, um Listen zu erstellen. Sie sind oft schneller als normale Schleifen, da sie in C geschrieben wurden. List comprehensions sind in der Regel kompakter als normale Schleifen, da sie in einer Zeile geschrieben werden können. Sie sind nicht immer leicht zu lesen, aber sie sind ein guter Weg, um zu zeigen, wie mächtig Python ist! Im Folgenden werden einige Beispiele für die Verwendung von List Comprehensions gezeigt.\n",
    "\n",
    "## Beispiel 1\n",
    "Zunächst ein klassisches Beispiel, um eine Liste zu erstellen, die die Quadratzahlen von 1 bis 10 enthält."
   ]
  },
  {
   "cell_type": "code",
   "execution_count": null,
   "metadata": {},
   "outputs": [],
   "source": [
    "numbers = [1, 2, 3, 4, 5, 6, 7, 8, 9, 10, 11, 12]\n",
    "squared_evens = []\n",
    "for x in numbers:\n",
    "    if x % 2 == 0 and x < 10:\n",
    "        squared_evens.append(x**2)"
   ]
  },
  {
   "cell_type": "markdown",
   "metadata": {},
   "source": [
    "Diese Schleife kann in eine List-Comprehension umgewandelt werden, um den Code kompakter und in vielen Fällen lesbarer zu machen."
   ]
  },
  {
   "cell_type": "code",
   "execution_count": null,
   "metadata": {},
   "outputs": [],
   "source": [
    "squared_evens = [x**2 for x in numbers if x % 2 == 0 and x < 10]\n"
   ]
  },
  {
   "cell_type": "markdown",
   "metadata": {},
   "source": [
    "In dieser List-Comprehension wird für jedes Element x in der Liste numbers überprüft, ob es gerade ist (x % 2 == 0) und kleiner als 10 (x < 10). Wenn beide Bedingungen erfüllt sind, wird das Quadrat von x (x**2) in die neue Liste squared_evens aufgenommen.\n",
    "\n",
    "Dieser Ansatz ist oft bevorzugt, wenn die Operationen relativ einfach sind und die Klarheit des Codes davon profitiert.\n",
    "\n",
    "## Beispiel 2\n",
    "\n",
    "Angenommen, wir haben einen Satz:"
   ]
  },
  {
   "cell_type": "code",
   "execution_count": null,
   "metadata": {},
   "outputs": [],
   "source": [
    "sentence = \"The quick brown fox jumps over the lazy dog\""
   ]
  },
  {
   "cell_type": "markdown",
   "metadata": {},
   "source": [
    "Wir möchten eine Liste erstellen, die die Länge jedes Wortes in diesem Satz enthält, aber nur, wenn das Wort länger als drei Buchstaben ist.\n",
    "**List-Comprehension Ansatz:**"
   ]
  },
  {
   "cell_type": "code",
   "execution_count": null,
   "metadata": {},
   "outputs": [],
   "source": [
    "word_lengths = [len(word) for word in sentence.split() if len(word) > 3]\n"
   ]
  },
  {
   "cell_type": "markdown",
   "metadata": {},
   "source": [
    "## Vorteile von List Comprehensions\n",
    "\n",
    "- **Kompakter Code:** \n",
    "\n",
    "    List Comprehensions ermöglichen es, komplexe Operationen in einer einzigen, kompakten Zeile zu schreiben, was den Code kürzer und oft leichter lesbar macht.\n",
    "\n",
    "- **Verbesserte Lesbarkeit:** \n",
    "\n",
    "    Für Personen, die mit der Syntax vertraut sind, können List Comprehensions die Absicht des Codes klarer machen als eine entsprechende Schleife.\n",
    "\n",
    "- **Höhere Ausführungsgeschwindigkeit:** \n",
    "\n",
    "    List Comprehensions können in einigen Fällen schneller ausgeführt werden als äquivalente Schleifen, da die Iteration intern optimiert ist.\n",
    "\n",
    "- **Direkte Nutzung von Funktionen und Bedingungen:** \n",
    "\n",
    "    In List Comprehensions können Funktionen und bedingte Logik direkt verwendet werden, was die Notwendigkeit separater Schleifen oder bedingter Anweisungen reduziert.\n",
    "\n",
    "- **Reduzierung des Bedarfs an temporären Variablen:** \n",
    "\n",
    "    List Comprehensions erlauben es, ohne zusätzliche temporäre Listen oder Variablen auszukommen, was den Speicherverbrauch reduzieren kann.\n",
    "\n",
    "- **Förderung eines funktionalen Programmierstils:** \n",
    "\n",
    "    List Comprehensions unterstützen einen funktionalen Ansatz, bei dem Datenverarbeitungsvorgänge oft klarer und konziser ausgedrückt werden können.\n",
    "\n",
    "- **Einfache Integration mehrerer Iteratoren:** \n",
    "\n",
    "    Komplexe List Comprehensions können mehrere Iteratoren und verschachtelte Schleifen in einer einzigen Zeile integrieren, was in traditionellen Schleifenstrukturen oft umständlicher ist.\n",
    "\n",
    "- **Gute Unterstützung in der Python-Community:** \n",
    "\n",
    "    List Comprehensions sind ein beliebtes Feature in Python und werden von der Community gut unterstützt, was bedeutet, dass viele Ressourcen und Beispiele zur Verfügung stehen."
   ]
  },
  {
   "cell_type": "markdown",
   "metadata": {},
   "source": [
    "## Übungsaufgabe 1: Filtern und Umwandeln von Zahlen 🌶️🌶️\n",
    "[15 min]\n",
    "\n",
    "**Aufgabenstellung:**\n",
    "Gegeben ist eine Liste von Zahlen. Erstelle eine neue Liste, die das Quadrat jeder ungeraden Zahl aus der ursprünglichen Liste enthält, sofern die Zahl größer als 10 ist.\n",
    "\n",
    "Beispiel-Liste: `numbers = [9, 12, 17, 21, 28, 33, 35]`\n",
    "\n",
    "**Lösung:**"
   ]
  },
  {
   "cell_type": "code",
   "execution_count": null,
   "metadata": {},
   "outputs": [],
   "source": [
    "numbers = [9, 12, 17, 21, 28, 33, 35]\n",
    "squared_odds = [x**2 for x in numbers if x % 2 != 0 and x > 10]"
   ]
  },
  {
   "cell_type": "markdown",
   "metadata": {},
   "source": [
    "## Übungsaufgabe 2: Extrahieren von Anfangsbuchstaben 🌶️\n",
    "[15 min]\n",
    "\n",
    "**Aufgabenstellung:**\n",
    "Gegeben ist eine Liste von Namen. Erstelle eine neue Liste, die den ersten Buchstaben jedes Namens enthält.\n",
    "\n",
    "Beispiel-Liste: `names = [\"Alice\", \"Bob\", \"Charlie\", \"Diana\"]`\n",
    "\n",
    "**Lösung:**"
   ]
  },
  {
   "cell_type": "code",
   "execution_count": null,
   "metadata": {},
   "outputs": [],
   "source": [
    "names = [\"Alice\", \"Bob\", \"Charlie\", \"Diana\"]\n",
    "first_letters = [name[0] for name in names]"
   ]
  },
  {
   "cell_type": "markdown",
   "metadata": {},
   "source": [
    "## Übungsaufgabe 3: Konvertierung von Temperaturen 🌶️🌶️\n",
    "[15 min]\n",
    "\n",
    "**Aufgabenstellung:**\n",
    "Du hast eine Liste von Temperaturen in Grad Celsius. Konvertiere jede Temperatur in Grad Fahrenheit und erstelle eine neue Liste mit den konvertierten Werten. Die Formel zur Umrechnung ist: `Fahrenheit = (Celsius * 9/5) + 32`.\n",
    "\n",
    "Beispiel-Liste: `celsius = [0, 10, 20, 30, 40]`\n",
    "\n",
    "**Lösung:**"
   ]
  },
  {
   "cell_type": "code",
   "execution_count": null,
   "metadata": {},
   "outputs": [],
   "source": [
    "celsius = [0, 10, 20, 30, 40]\n",
    "fahrenheit = [(c * 9/5) + 32 for c in celsius]"
   ]
  }
 ],
 "metadata": {
  "language_info": {
   "name": "python"
  }
 },
 "nbformat": 4,
 "nbformat_minor": 2
}
