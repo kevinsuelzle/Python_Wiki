{
 "cells": [
  {
   "cell_type": "markdown",
   "metadata": {},
   "source": [
    "# Variablenbenennung\n",
    "\n",
    "Die Benennung von Variablen in Python sollte den Richtlinien des [PEP8 zu Funktions- und Variablennamen](https://peps.python.org/pep-0008/#function-and-variable-names) folgen. Allgemein werden Variablen in Python in Kleinbuchstaben geschrieben. Wörter werden durch Unterstriche getrennt (snake_case).\n",
    "\n",
    "***Ausnahmen:***\n",
    "- In Python gibt es keine Konstanten. Konstanten werden in Großbuchstaben geschrieben. Dies ist jedoch nur eine Konvention und wird von Python nicht überprüft.\n",
    "- Klassen werden in CamelCase geschrieben. Dies ist jedoch nur eine Konvention und wird von Python nicht überprüft.\n",
    "\n",
    "***Nice to know:***\n",
    "- In bestehenden Paketen finden wir gelegentlich auch andere Schreibweisen. So werden z.B. in Pandas Variablen in CamelCase geschrieben. Dies ist jedoch nicht empfohlen und sollten in eigenen Projekten vermieden werden.\n",
    "\n",
    "## Beispiel\n",
    "[10 min]\n",
    "\n",
    "Gegeben ist der folgende Code:"
   ]
  },
  {
   "cell_type": "code",
   "execution_count": 1,
   "metadata": {},
   "outputs": [],
   "source": [
    "def func(a, b, c, d):\n",
    "    x = a + b\n",
    "    y = c * d\n",
    "    z = x - y\n",
    "    return z"
   ]
  },
  {
   "cell_type": "markdown",
   "metadata": {},
   "source": [
    "Dieser Code subtrahiert die Multiplikation von `c` und `d` von der Addition von `a` und `b`. Die Variable `z` enthält also das Ergebnis dieser Rechnung. Die Namensgebung dieser Funktion ist unvorteilhaft, da sie in anderen Teilen des Codes nicht mehr verständlich ist. Eine bessere Namensgebung wäre:"
   ]
  },
  {
   "cell_type": "code",
   "execution_count": 2,
   "metadata": {},
   "outputs": [],
   "source": [
    "def calculate_difference_of(primary_summand, secondary_summand, primary_factor, secondary_factor):\n",
    "    primary_sum = primary_summand + secondary_summand\n",
    "    secondary_sum = primary_factor * secondary_factor\n",
    "    difference = primary_sum - secondary_sum\n",
    "    return difference"
   ]
  },
  {
   "cell_type": "markdown",
   "metadata": {},
   "source": [
    "## Aufgabe 1: Variablenumbenennug 🌶️🌶️\n",
    "[15 min]\n",
    "\n",
    "Gegeben ist ein Code-Ausschnitt, welcher den Warenwert eines Einkaufskorbes bereichnet. Leider hat der Entwicker wenig Wert auf die Namenskonventionen gelegt. Benennen Sie die Variablen entsprechend der Konventionen um und führen sie sprechende Variablennamen ein."
   ]
  },
  {
   "cell_type": "code",
   "execution_count": 3,
   "metadata": {},
   "outputs": [
    {
     "name": "stdout",
     "output_type": "stream",
     "text": [
      "Warenwert: $77.9\n"
     ]
    }
   ],
   "source": [
    "a = [3, 5, 2]  \n",
    "p = [10.99, 5.99, 7.49]  \n",
    "\n",
    "\n",
    "def s(e, p):\n",
    "    c = 0\n",
    "    for i in range(len(e)):\n",
    "        c += e[i] * p[i]\n",
    "    return c\n",
    "\n",
    "\n",
    "# warenKorbWertBerechnen\n",
    "c = s(a, p)\n",
    "\n",
    "# ausgabeWarenwert\n",
    "print(\"Warenwert: $\" + str(c))"
   ]
  },
  {
   "cell_type": "markdown",
   "metadata": {},
   "source": [
    "**Lösung: Variablenumbenennug eines matplotlib Beispiels**"
   ]
  },
  {
   "cell_type": "code",
   "execution_count": 4,
   "metadata": {},
   "outputs": [
    {
     "name": "stdout",
     "output_type": "stream",
     "text": [
      "Warenwert: $77.9\n"
     ]
    }
   ],
   "source": [
    "articles = [3, 5, 2]  # Anzahl der Artikel\n",
    "prices = [10.99, 5.99, 7.49]  # Preis pro Artikel\n",
    "\n",
    "# Methode zum Berechnen der Summe des Warenwerts\n",
    "\n",
    "\n",
    "def calculate_total(items, prices):\n",
    "    total = 0\n",
    "    for i in range(len(items)):\n",
    "        total += items[i] * prices[i]\n",
    "    return total\n",
    "\n",
    "\n",
    "# Warenkorb berechnen\n",
    "warenkorb_wert = calculate_total(articles, prices)\n",
    "\n",
    "# Ausgabe des Warenwerts\n",
    "print(\"Warenwert: $\" + str(warenkorb_wert))"
   ]
  },
  {
   "cell_type": "markdown",
   "metadata": {},
   "source": [
    "## Aufgabe 2: Verbesserung der Variablennamen 🌶️🌶️🌶️\n",
    "[30 min]\n",
    "\n",
    "In diesem Python-Code für Tic Tac Toe sind einige Variablennamen zu kurz oder nicht intuitiv. Deine Aufgabe ist es, die Variablennamen so zu ändern, dass sie lesbarer und verständlicher werden. Hier sind einige Vorschläge, worauf du dich konzentrieren kannst:\n",
    "\n",
    "1. Funktion prntBrd(b): Benenne die Funktion und ihre Parameter um, um klarzustellen, dass sie das Spielfeld ausdruckt.\n",
    "2. Funktion chckWin(b, m): Ändere den Namen der Funktion und ihrer Parameter, um ihre Funktion, das Überprüfen eines Gewinns, besser zu reflektieren.\n",
    "3. Variablen innerhalb der Funktionen: Überarbeite Variablennamen wie b, r, c, m, brd und curP, um ihre Bedeutung klarer zu machen.\n",
    "4. Allgemeine Lesbarkeit: Überprüfe den Code auf allgemeine Lesbarkeit und Verständlichkeit und nimm entsprechende Änderungen vor.\n",
    "Denke daran, dass gute Variablennamen leicht zu verstehen sind und den Zweck oder den Wert, den sie repräsentieren, klar kommunizieren."
   ]
  },
  {
   "cell_type": "code",
   "execution_count": 10,
   "metadata": {},
   "outputs": [
    {
     "name": "stdout",
     "output_type": "stream",
     "text": [
      "  |   |  \n",
      "---------\n",
      "  |   |  \n",
      "---------\n",
      "  |   |  \n",
      "---------\n",
      "X |   |  \n",
      "---------\n",
      "  |   |  \n",
      "---------\n",
      "  |   |  \n",
      "---------\n",
      "X |   |  \n",
      "---------\n",
      "O |   |  \n",
      "---------\n",
      "  |   |  \n",
      "---------\n",
      "X | X |  \n",
      "---------\n",
      "O |   |  \n",
      "---------\n",
      "  |   |  \n",
      "---------\n",
      "X | X |  \n",
      "---------\n",
      "O |   |  \n",
      "---------\n",
      "  |   | O\n",
      "---------\n",
      "Player X wins!\n",
      "X | X | X\n",
      "---------\n",
      "O |   |  \n",
      "---------\n",
      "  |   | O\n",
      "---------\n"
     ]
    }
   ],
   "source": [
    "def prntBrd(b):\n",
    "    for r in b:\n",
    "        print(\" | \".join(r))\n",
    "        print(\"-\" * 9)\n",
    "\n",
    "def chckWin(b, m):\n",
    "    for r in range(3):\n",
    "        if b[r][0] == b[r][1] == b[r][2] == m: return True\n",
    "    for c in range(3):\n",
    "        if b[0][c] == b[1][c] == b[2][c] == m: return True\n",
    "    if b[0][0] == b[1][1] == b[2][2] == m: return True\n",
    "    if b[0][2] == b[1][1] == b[2][0] == m: return True\n",
    "    return False\n",
    "\n",
    "def game():\n",
    "    brd = [[\" \" for _ in range(3)] for _ in range(3)]\n",
    "    curP = \"X\"\n",
    "    while True:\n",
    "        prntBrd(brd)\n",
    "        r, c = map(int, input(f\"Player {curP}, enter row and column (0-2): \").split())\n",
    "        if brd[r][c] == \" \":\n",
    "            brd[r][c] = curP\n",
    "            if chckWin(brd, curP):\n",
    "                print(f\"Player {curP} wins!\")\n",
    "                break\n",
    "            curP = \"X\" if curP == \"O\" else \"O\"\n",
    "        else:\n",
    "            print(\"Invalid move, try again.\")\n",
    "    prntBrd(brd)\n",
    "\n",
    "game()"
   ]
  },
  {
   "cell_type": "markdown",
   "metadata": {},
   "source": [
    "**Lösung**"
   ]
  },
  {
   "cell_type": "code",
   "execution_count": 11,
   "metadata": {},
   "outputs": [
    {
     "name": "stdout",
     "output_type": "stream",
     "text": [
      "  |   |  \n",
      "---------\n",
      "  |   |  \n",
      "---------\n",
      "  |   |  \n",
      "---------\n",
      "X |   |  \n",
      "---------\n",
      "  |   |  \n",
      "---------\n",
      "  |   |  \n",
      "---------\n",
      "X |   |  \n",
      "---------\n",
      "  |   |  \n",
      "---------\n",
      "  |   |  \n",
      "---------\n",
      "X | O |  \n",
      "---------\n",
      "  |   |  \n",
      "---------\n",
      "  |   |  \n",
      "---------\n",
      "X | O |  \n",
      "---------\n",
      "  |   |  \n",
      "---------\n",
      "  |   |  \n",
      "---------\n",
      "X | O |  \n",
      "---------\n",
      "  | X |  \n",
      "---------\n",
      "  |   |  \n",
      "---------\n",
      "X | O |  \n",
      "---------\n",
      "  | X |  \n",
      "---------\n",
      "  |   |  \n",
      "---------\n",
      "X | O | O\n",
      "---------\n",
      "  | X |  \n",
      "---------\n",
      "  |   |  \n",
      "---------\n",
      "X | O | O\n",
      "---------\n",
      "  | X |  \n",
      "---------\n",
      "  |   |  \n",
      "---------\n",
      "Invalid move, try again.\n",
      "X | O | O\n",
      "---------\n",
      "  | X |  \n",
      "---------\n",
      "  |   |  \n",
      "---------\n",
      "X | O | O\n",
      "---------\n",
      "  | X |  \n",
      "---------\n",
      "  |   |  \n",
      "---------\n",
      "Player X wins!\n"
     ]
    }
   ],
   "source": [
    "def print_board(board):\n",
    "    for row in board:\n",
    "        print(\" | \".join(row))\n",
    "        print(\"-\" * 9)\n",
    "\n",
    "def check_win(board, marker):\n",
    "    # Überprüfe Zeilen, Spalten und Diagonalen auf einen Sieg\n",
    "    for i in range(3):\n",
    "        if board[i][0] == board[i][1] == board[i][2] == marker: \n",
    "            return True\n",
    "        if board[0][i] == board[1][i] == board[2][i] == marker: \n",
    "            return True\n",
    "    if board[0][0] == board[1][1] == board[2][2] == marker: \n",
    "        return True\n",
    "    if board[0][2] == board[1][1] == board[2][0] == marker: \n",
    "        return True\n",
    "    return False\n",
    "\n",
    "def start_game():\n",
    "    game_board = [[\" \" for _ in range(3)] for _ in range(3)]\n",
    "    current_player = \"X\"\n",
    "\n",
    "    while True:\n",
    "        print_board(game_board)\n",
    "        row, column = map(int, input(f\"Player {current_player}, enter row and column (0-2): \").split())\n",
    "        \n",
    "        if game_board[row][column] == \" \":\n",
    "            game_board[row][column] = current_player\n",
    "            if check_win(game_board, current_player):\n",
    "                print(f\"Player {current_player} wins!\")\n",
    "                break\n",
    "            current_player = \"X\" if current_player == \"O\" else \"O\"\n",
    "        else:\n",
    "            print(\"Invalid move, try again.\")\n",
    "\n",
    "        print_board(game_board)\n",
    "\n",
    "start_game()"
   ]
  },
  {
   "cell_type": "markdown",
   "metadata": {},
   "source": [
    "1. prntBrd(b) wurde zu print_board(board) umbenannt, um die Funktion des Ausdruckens des Spielbretts klarer zu machen.\n",
    "2. chckWin(b, m) wurde zu check_win(board, marker) umbenannt, was die Funktion des Überprüfens auf einen Gewinn besser beschreibt.\n",
    "3. Die Variablennamen innerhalb der Funktionen wurden verbessert:\n",
    "   - b wurde zu board\n",
    "   - r und c wurden zu row und column\n",
    "   - m wurde zu marker\n",
    "   - brd wurde zu game_board\n",
    "   - curP wurde zu current_player\n",
    "4. Kommentare und Formatierung wurden für eine bessere Lesbarkeit hinzugefügt.\n",
    "Diese Änderungen machen den Code lesbarer und es ist leichter zu verstehen, was jede Variable und Funktion repräsentiert."
   ]
  },
  {
   "cell_type": "markdown",
   "metadata": {},
   "source": [
    "## Private, protected und public Variablen\n",
    "[20 min]\n",
    "\n",
    "In Python gibt es keine Möglichkeit, Variablen als private oder protected zu deklarieren. Es gibt jedoch eine Konvention, wie private Variablen benannt werden sollten. Private Variablen beginnen mit einem Unterstrich. Protected Variablen beginnen mit zwei Unterstrichen. Public Variablen haben keinen Unterstrich am Anfang. Diese Benamungen kommen vor allem in Klassen zum Einsatz.\n",
    "\n",
    "| Sichtbarkeit | Schlüsselwort in Python       | Beispiel in Python | Zugriff                  |\n",
    "| ------------ | ----------------------------- | ------------------ | ------------------------ |\n",
    "| Private      | `__` (Doppelunterstrich)      | `__variable_name`  | Nur innerhalb der Klasse |\n",
    "|              |                               |                    | sichtbar                 |\n",
    "| Geschützt    | `_` (Unterstrich)             | `_variable_name`   | Innerhalb der Klasse     |\n",
    "|              |                               |                    | und abgeleiteten Klassen |\n",
    "| Öffentlich   | Kein spezielles Schlüsselwort | `variable_name`    | Überall sichtbar         |\n",
    "\n",
    "Geschützte Variablen sind nur für die Verwendung in der Klasse gedachte. Sie können jedoch von abgeleiteten Klassen verwendet werden. Private Variablen sind nur für die Verwendung in der Klasse gedacht und können nicht von abgeleiteten Klassen verwendet werden. Öffentliche Variablen können überall verwendet werden. Zu beachten ist, dass private Variablen in Python nur durch Konvention private sind. Sie können trotzdem von außen verwendet werden. Geschützte (protected) Variablen hingegen sind nicht direkt von außen abrufbar.\n"
   ]
  }
 ],
 "metadata": {
  "kernelspec": {
   "display_name": "venv",
   "language": "python",
   "name": "python3"
  },
  "language_info": {
   "codemirror_mode": {
    "name": "ipython",
    "version": 3
   },
   "file_extension": ".py",
   "mimetype": "text/x-python",
   "name": "python",
   "nbconvert_exporter": "python",
   "pygments_lexer": "ipython3",
   "version": "3.11.6"
  }
 },
 "nbformat": 4,
 "nbformat_minor": 2
}
