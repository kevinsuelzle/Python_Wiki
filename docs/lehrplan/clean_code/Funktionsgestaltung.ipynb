{
 "cells": [
  {
   "cell_type": "markdown",
   "metadata": {},
   "source": [
    "# Funktionsgestaltung\n",
    "\n",
    "## Grundlagen\n",
    "[10 min]\n",
    "\n",
    "Funktionen sollten die folgenden Eigenschaften haben:\n",
    "\n",
    "1. **Kürze:** Funktionen sollten möglichst kurz gehalten werden. Das macht sie leichter zu verstehen und zu warten.\n",
    "\n",
    "2. **Einzelne Aufgabe:** Jede Funktion sollte sich nur um eine Sache kümmern. Dieses Prinzip wird oft als \"Do One Thing!\" bezeichnet. Wenn eine Funktion nur eine Aufgabe hat, ist sie einfacher zu nutzen und zu überprüfen.\n",
    "\n",
    "3. **Klare Benennung:** Der Name einer Funktion und die Namen ihrer Parameter sollten genau beschreiben, was die Funktion tut und was für Daten sie erwartet. Gute Namen machen den Code selbsterklärend. Die Bennenung folgt dem gleichen Prinzip wie die Benennung von Variablen.\n",
    "\n",
    "4. **Abstraktionsebene:** Eine Funktion sollte sich nur um Aufgaben auf einer bestimmten Abstraktionsebene kümmern. Das bedeutet, dass alle Schritte in der Funktion ähnlich komplex sein sollten. Zum Beispiel sollte eine Funktion nicht gleichzeitig sehr detaillierte Berechnungen durchführen und hochgradig abstrakte Entscheidungen treffen.\n",
    "\n",
    "5. **Wenige Argumente:** Funktionen sollten idealerweise nur wenige Parameter haben. Zu viele Parameter können den Code unübersichtlich und schwer zu handhaben machen.\n",
    "\n",
    "6. **Fehlerbehandlung:** Funktionen sollten echte Fehler richtig verarbeiten, anstatt spezielle Fehlerwerte an den aufrufenden Code zurückzugeben. So wird es einfacher, Fehler direkt an der Quelle zu identifizieren und zu beheben, und der übergeordnete Code bleibt sauberer und klarer.\n",
    "\n",
    "7. **Keine Seiteneffekte:** Funktionen sollten idealerweise keine Seiteneffekte haben, d.h. sie sollten den Zustand des Programms außerhalb ihrer selbst nicht verändern. Das macht den Code vorhersehbarer und reduziert die Wahrscheinlichkeit von Fehlern, die durch unerwartete Änderungen an Daten entstehen, die außerhalb der Funktion liegen.\n",
    "\n",
    "## Übungsaufgabe 1: Code aufteilen 🌶️🌶️\n",
    "[30 min]\n",
    "\n",
    "1. Teile den folgenden Code in mehrere Funktionen auf, die jeweils nur eine Sache tun.\n",
    "2. Benenne die Funktionen und ihre Parameter entsprechend."
   ]
  },
  {
   "cell_type": "code",
   "execution_count": null,
   "metadata": {},
   "outputs": [],
   "source": [
    "import sys\n",
    "\n",
    "def komplexe_funktion():\n",
    "    # Eingaben einlesen\n",
    "    if len(sys.argv) < 3:\n",
    "        print(\"Bitte mindestens zwei Zahlen als Argumente eingeben.\")\n",
    "        return\n",
    "\n",
    "    zahl1 = int(sys.argv[1])\n",
    "    zahl2 = int(sys.argv[2])\n",
    "\n",
    "    # Berechnungen durchführen\n",
    "    summe = zahl1 + zahl2\n",
    "    differenz = zahl1 - zahl2\n",
    "    produkt = zahl1 * zahl2\n",
    "    if zahl2 != 0:\n",
    "        quotient = zahl1 / zahl2\n",
    "    else:\n",
    "        quotient = \"Unendlich\"\n",
    "\n",
    "    # Ergebnisse ausgeben\n",
    "    print(f\"Summe: {summe}\")\n",
    "    print(f\"Differenz: {differenz}\")\n",
    "    print(f\"Produkt: {produkt}\")\n",
    "    print(f\"Quotient: {quotient}\")\n",
    "\n",
    "if __name__ == \"__main__\":\n",
    "    komplexe_funktion()"
   ]
  },
  {
   "cell_type": "markdown",
   "metadata": {},
   "source": [
    "**Lösung**"
   ]
  },
  {
   "cell_type": "code",
   "execution_count": null,
   "metadata": {},
   "outputs": [],
   "source": [
    "import sys\n",
    "\n",
    "def lese_eingaben():\n",
    "    if len(sys.argv) < 3:\n",
    "        print(\"Bitte mindestens zwei Zahlen als Argumente eingeben.\")\n",
    "        return None, None\n",
    "    return int(sys.argv[1]), int(sys.argv[2])\n",
    "\n",
    "def berechne_operationen(zahl1, zahl2):\n",
    "    summe = zahl1 + zahl2\n",
    "    differenz = zahl1 - zahl2\n",
    "    produkt = zahl1 * zahl2\n",
    "    quotient = zahl1 / zahl2 if zahl2 != 0 else \"Unendlich\"\n",
    "    return summe, differenz, produkt, quotient\n",
    "\n",
    "def zeige_ergebnisse(summe, differenz, produkt, quotient):\n",
    "    print(f\"Summe: {summe}\")\n",
    "    print(f\"Differenz: {differenz}\")\n",
    "    print(f\"Produkt: {produkt}\")\n",
    "    print(f\"Quotient: {quotient}\")\n",
    "\n",
    "def hauptfunktion():\n",
    "    zahl1, zahl2 = lese_eingaben()\n",
    "    if zahl1 is None or zahl2 is None:\n",
    "        return\n",
    "    summe, differenz, produkt, quotient = berechne_operationen(zahl1, zahl2)\n",
    "    zeige_ergebnisse(summe, differenz, produkt, quotient)\n",
    "\n",
    "if __name__ == \"__main__\":\n",
    "    hauptfunktion()"
   ]
  },
  {
   "cell_type": "markdown",
   "metadata": {},
   "source": [
    "In der gegebenen Übungsaufgabe wurde der ursprüngliche Code, der in einer einzelnen Funktion (`komplexe_funktion`) enthalten war, in mehrere spezialisierte Funktionen aufgeteilt. Hier sind die Änderungen im Detail:\n",
    "\n",
    "1. **Funktion `lese_eingaben`:** Diese Funktion wurde neu hinzugeefügt. Sie liest die Eingaben aus `sys.argv` und prüft, ob mindestens zwei Zahlen als Argumente eingegeben wurden. Falls nicht, gibt sie `None, None` zurück. Diese Funktion trennt die Logik des Einlesens der Eingaben von den restlichen Berechnungen.\n",
    "\n",
    "2. **Funktion `berechne_operationen`:** Diese Funktion führt die Berechnungen (Summe, Differenz, Produkt, Quotient) durch, die zuvor in der `komplexe_funktion` enthalten waren. Sie nimmt zwei Zahlen als Parameter (`zahl1`, `zahl2`) und gibt die Ergebnisse der Berechnungen zurück. Diese Funktion konzentriert sich ausschließlich auf die Berechnungslogik.\n",
    "\n",
    "3. **Funktion `zeige_ergebnisse`:** Diese Funktion ist verantwortlich für die Ausgabe der Ergebnisse. Sie nimmt die berechneten Werte (Summe, Differenz, Produkt, Quotient) als Parameter und gibt sie auf dem Bildschirm aus. Diese Trennung der Ausgabefunktion von der Berechnungslogik verbessert die Lesbarkeit und Wartbarkeit des Codes.\n",
    "\n",
    "4. **Funktion `hauptfunktion`:** Dies ist die Hauptfunktion, die die oben genannten Funktionen in der richtigen Reihenfolge aufruft. Zuerst werden die Eingaben gelesen, dann die Operationen berechnet und schließlich die Ergebnisse angezeigt. Diese Funktion dient als Kontrollpunkt für den gesamten Prozess.\n",
    "\n",
    "Durch diese Änderungen wird der Code modularer, lesbarer und wartbarer. Jede Funktion ist nun für eine spezifische Aufgabe zuständig, was den Code einfacher zu verstehen und zu pflegen macht."
   ]
  },
  {
   "cell_type": "markdown",
   "metadata": {},
   "source": [
    "## Übungsaufgabe 2: Code lesbarer machen 🌶️🌶️\n",
    "[20 min]\n",
    "\n",
    "Überarbeite den folgenden Python-Code, der eine Textanalyse durchführt. Der aktuelle Code nutzt unklare und verwirrende Namen, die es schwierig machen, die Funktionalität und Absicht des Codes zu verstehen. Deine Aufgabe ist es, den Code zu überarbeiten, um ihn klarer und verständlicher zu machen."
   ]
  },
  {
   "cell_type": "code",
   "execution_count": null,
   "metadata": {},
   "outputs": [],
   "source": [
    "def text(a):\n",
    "    b = a.split()\n",
    "    c = len(b)\n",
    "    d = {}\n",
    "    e = 0\n",
    "    for f in b:\n",
    "        if f in d:\n",
    "            d[f] += 1\n",
    "        else:\n",
    "            d[f] = 1\n",
    "        e += len(f)\n",
    "    g = None\n",
    "    h = 0\n",
    "    for i, j in d.items():\n",
    "        if j > h:\n",
    "            h = j\n",
    "            g = i\n",
    "    k = e / c\n",
    "    return c, g, k\n",
    "\n",
    "if __name__ == \"__main__\":\n",
    "    l = text(\"Beispieltext mit einigen Wörtern. Einige Wörter wiederholen sich.\")\n",
    "    print(\"Zählung:\", l[0])\n",
    "    print(\"Oft:\", l[1])\n",
    "    print(\"Durchschn:\", l[2])"
   ]
  },
  {
   "cell_type": "markdown",
   "metadata": {},
   "source": [
    "**Lösung**"
   ]
  },
  {
   "cell_type": "code",
   "execution_count": null,
   "metadata": {},
   "outputs": [],
   "source": [
    "def count_words(text):\n",
    "    # Zerlegt den Text in einzelne Wörter\n",
    "    words = text.split()\n",
    "    return len(words)\n",
    "\n",
    "def calculate_word_frequency(text):\n",
    "    # Erstellt ein Wörterbuch zur Zählung der Häufigkeit jedes Wortes\n",
    "    words = text.split()\n",
    "    word_frequency = {}\n",
    "    for word in words:\n",
    "        if word in word_frequency:\n",
    "            word_frequency[word] += 1\n",
    "        else:\n",
    "            word_frequency[word] = 1\n",
    "    return word_frequency\n",
    "\n",
    "def analyze_text(text):\n",
    "    # Funktionen aufrufen, um Anzahl der Wörter und Wortfrequenz zu berechnen\n",
    "    word_count = count_words(text)\n",
    "    word_frequency = calculate_word_frequency(text)\n",
    "\n",
    "    # Findet das am häufigsten vorkommende Wort\n",
    "    most_frequent_word = max(word_frequency, key=word_frequency.get)\n",
    "\n",
    "    # Berechnet die durchschnittliche Wortlänge\n",
    "    total_characters = sum(len(word) for word in text.split())\n",
    "    average_word_length = total_characters / word_count\n",
    "\n",
    "    return word_count, most_frequent_word, average_word_length\n",
    "\n",
    "if __name__ == \"__main__\":\n",
    "    text = \"Beispieltext mit einigen Wörtern. Einige Wörter wiederholen sich.\"\n",
    "    word_count, most_frequent_word, average_word_length = analyze_text(text)\n",
    "    print(\"Anzahl der Wörter:\", word_count)\n",
    "    print(\"Häufigstes Wort:\", most_frequent_word)\n",
    "    print(\"Durchschnittliche Wortlänge:\", average_word_length)"
   ]
  },
  {
   "cell_type": "markdown",
   "metadata": {},
   "source": [
    "Die Verbesserungen im überarbeiteten Code im Vergleich zum Original sind:\n",
    "\n",
    "1. **Bessere Funktionsnamen und Aufteilung:** \n",
    "   - Im verbesserten Code werden spezifischere und beschreibende Funktionsnamen verwendet (`count_words`, `calculate_word_frequency`, `analyze_text`), was die Absicht jeder Funktion klarer macht.\n",
    "   - Der Code wurde in separate Funktionen aufgeteilt, wobei jede Funktion eine spezifische Aufgabe erfüllt. Dies folgt dem Prinzip \"Do One Thing\", was den Code wartbarer und verständlicher macht.\n",
    "\n",
    "2. **Klarere Variable-Namen:** \n",
    "   - Die Variablennamen sind jetzt aussagekräftiger und beschreibender (`words`, `word_frequency`, `most_frequent_word`, `average_word_length`), was den Code lesbarer und einfacher zu verstehen macht.\n",
    "\n",
    "3. **Effizientere Berechnung des häufigsten Wortes:** \n",
    "   - Im verbesserten Code wird `max` mit dem Schlüssel `word_frequency.get` verwendet, um das am häufigsten vorkommende Wort zu finden. Dies ist effizienter und klarer als die manuelle Iteration und Vergleichslogik im ursprünglichen Code.\n",
    "\n",
    "4. **Verbesserte Berechnung der durchschnittlichen Wortlänge:** \n",
    "   - Die durchschnittliche Wortlänge wird jetzt durch eine List Comprehension berechnet, die die Längen aller Wörter summiert und dann durch die Gesamtzahl der Wörter teilt. Diese Methode ist eleganter und nutzt Python-Funktionen effizienter.\n",
    "\n",
    "5. **Deutlichere Hauptfunktion:** \n",
    "   - Die `main`-Funktion ist nun klarer strukturiert und teilt den Prozess in verständliche Schritte: Textanalyse durchführen und Ergebnisse ausdrucken.\n",
    "\n",
    "Insgesamt macht die verbesserte Version den Code modularer, klarer und einfacher zu warten, indem sie gut benannte Funktionen und Variablen verwendet und effizientere Python-Konstrukte nutzt."
   ]
  },
  {
   "cell_type": "markdown",
   "metadata": {},
   "source": [
    "Der Autor antwortet auf die Aufgabe, Zitat (übersetzt): \"Mit nur ein paar einfachen Methodenextraktionen, etwas Umbenennung und einer kleinen Umstrukturierung\n",
    "konnte ich jedoch die Absicht der Funktion in den neun Zeilen [des folgenden von Java nach Python übersetzten Codes]\n",
    "erfassen.\"\n",
    "\n",
    "## Übungsaufgabe 3: Listenmanipulation und String- Verarbeitung 🌶️🌶️\n",
    "[30 min]\n",
    "\n",
    "Gegeben ist eine Liste von Wörtern. Schreiben Sie eine Python-Funktion, die folgende Anforderungen erfüllt:\n",
    "\n",
    "1. Die Funktion soll alle Wörter in der Liste umkehren.\n",
    "2. Die Funktion soll dann die umgekehrten Wörter zu einem einzigen String zusammenfügen, wobei jedes Wort durch ein Komma und ein Leerzeichen getrennt ist.\n",
    "3. Schließlich soll die Funktion den so erstellten String zurückgeben.\n",
    "\n",
    "**Beispiel:**"
   ]
  },
  {
   "cell_type": "code",
   "execution_count": null,
   "metadata": {},
   "outputs": [],
   "source": [
    "\n",
    "words = [\"Python\", \"Entwicklung\", \"spaßig\", \"Lernen\"]"
   ]
  },
  {
   "cell_type": "markdown",
   "metadata": {},
   "source": [
    "Erwartete Ausgabe:\n",
    "```plaintext\n",
    "\"nohtyP, gnukcitnE, gißaps, nereL\"\n",
    "```\n",
    "\n",
    "Implementieren Sie die Funktion `reverse_and_combine_words(words)`.\n",
    "\n",
    "Hinweis: Verwenden Sie keine externen Bibliotheken oder Funktionen wie `join()` oder `reverse()`, sondern nur Schleifen und String-Operationen."
   ]
  },
  {
   "cell_type": "markdown",
   "metadata": {},
   "source": [
    "**Lösung**"
   ]
  },
  {
   "cell_type": "code",
   "execution_count": null,
   "metadata": {},
   "outputs": [],
   "source": [
    "def reverse_and_combine_words(words):\n",
    "    # Umkehren jedes Wortes in der Liste mit einer List Comprehension\n",
    "    reversed_words = [word[::-1] for word in words]\n",
    "    \n",
    "    # Kombinieren der umgekehrten Wörter zu einem einzigen String\n",
    "    combined_words = ', '.join(reversed_words)\n",
    "    \n",
    "    return combined_words\n",
    "\n",
    "# Beispiel-Liste\n",
    "words = [\"Python\", \"Entwicklung\", \"spaßig\", \"Lernen\"]\n",
    "\n",
    "# Ausführen der Funktion und Ausgeben des Ergebnisses\n",
    "reverse_and_combine_words(words)"
   ]
  }
 ],
 "metadata": {
  "language_info": {
   "name": "python"
  }
 },
 "nbformat": 4,
 "nbformat_minor": 2
}
