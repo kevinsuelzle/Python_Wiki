{
 "cells": [
  {
   "cell_type": "markdown",
   "metadata": {},
   "source": [
    "# Verwendung von Funktionsparametern statt globaler Variablen\n",
    "\n",
    "## Beispiel"
   ]
  },
  {
   "cell_type": "markdown",
   "metadata": {},
   "source": [
    "**config.py**"
   ]
  },
  {
   "cell_type": "code",
   "execution_count": null,
   "metadata": {},
   "outputs": [],
   "source": [
    "# config.py\n",
    "# Global configuration variable\n",
    "settings = {\n",
    "    \"debug_mode\": False\n",
    "}"
   ]
  },
  {
   "cell_type": "markdown",
   "metadata": {},
   "source": [
    "**main.py**"
   ]
  },
  {
   "cell_type": "code",
   "execution_count": null,
   "metadata": {},
   "outputs": [],
   "source": [
    "# main.py\n",
    "import config\n",
    "\n",
    "def enable_debug():\n",
    "    config.settings[\"debug_mode\"] = True\n",
    "\n",
    "def perform_operation():\n",
    "    if config.settings[\"debug_mode\"]:\n",
    "        print(\"Debug mode is enabled. Performing operation in debug mode.\")\n",
    "    else:\n",
    "        print(\"Performing operation in standard mode.\")\n",
    "\n",
    "print(\"Initial debug mode:\", config.settings[\"debug_mode\"])\n",
    "enable_debug()\n",
    "perform_operation()\n",
    "print(\"Final debug mode:\", config.settings[\"debug_mode\"])\n"
   ]
  },
  {
   "cell_type": "markdown",
   "metadata": {},
   "source": [
    "Der Code stellt zwei Module bereit, config.py und main.py. config.py dient hierbei dazu, Konfigurationen für alle Module bereitzustellen. Das Problem hierbei ist, dass die globale Variable von main.py geändert wird. Wird nun ein weiteres Modul eingebunden, so kann dieses die Variable ebenfalls nutzen und änder. Dies führt zu unerwartetem Verhalten und macht die Software schwer wartbar. Ein bessrer Weg ist es, die Konfigurationen als Funktionsparameter zu übergeben. Hierbei wird die Konfiguration gekapselt und kann nicht mehr von anderen Modulen geändert werden."
   ]
  },
  {
   "cell_type": "markdown",
   "metadata": {},
   "source": [
    "**Unerwünschte Effekte mit Globalen Variablen**:\n",
    "\n",
    "- **Beeinträchtigung von Lesbarkeit und Wartbarkeit:**\n",
    "    \n",
    "    Globale Variablen können von überall im Code geändert werden, was zu unerwartetem Verhalten und schwer zu findenden Fehlern führen kann.\n",
    "\n",
    "- **Erschwerte Nachvollziehbarkeit des Datenflusses:** \n",
    "\n",
    "    Da ihre Werte an vielen Stellen verändert werden können, ohne dass dies offensichtlich ist, wird der Datenfluss im Programm unklar.\n",
    "\n",
    "- **Probleme in größeren Projekten:** \n",
    "\n",
    "    In umfangreichen Projekten wird die Nachverfolgung der Verwendung und Änderung globaler Variablen fast unmöglich, was die Komplexität unnötig erhöht.\n",
    "\n",
    "- **Erschwerte Testbarkeit:** \n",
    "\n",
    "    Globale Variablen erschweren das isolierte Testen von Codeabschnitten, da Änderungen an ihnen unerwartete Seiteneffekte in anderen Teilen des Programms haben können.\n",
    "\n",
    "- **Risiko von Seiteneffekten:** \n",
    "\n",
    "    Änderungen an globalen Variablen können unerwartete Auswirkungen auf andere Teile des Programms haben, was die Fehlersuche und -behebung erschwert."
   ]
  },
  {
   "cell_type": "markdown",
   "metadata": {},
   "source": [
    "[zurück](../TheGoodPractices)"
   ]
  }
 ],
 "metadata": {
  "language_info": {
   "name": "python"
  }
 },
 "nbformat": 4,
 "nbformat_minor": 2
}
