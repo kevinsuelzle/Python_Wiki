{
 "cells": [
  {
   "cell_type": "markdown",
   "metadata": {},
   "source": [
    "## Projekt: Integration von SQLAlchemy in einem Flask-Projekt 🌶️🌶️🌶️🌶️\n",
    "[120 min]\n",
    "\n",
    "### Ziel der Aufgabe\n",
    "\n",
    "Entwickeln Sie ein einfaches Flask-Webprojekt mit SQLAlchemy, das ein Auto-Datenmodell verwendet. Sie werden CRUD-Operationen implementieren und die Funktionalität über HTTP-Endpoints bereitstellen.\n",
    "\n",
    "### Voraussetzungen\n",
    "\n",
    "- Installieren Sie Flask und Flask-SQLAlchemy in Ihrer Python-Umgebung:\n",
    "  \n",
    "  ```bash\n",
    "  pip install Flask Flask-SQLAlchemy\n",
    "  ```\n",
    "\n",
    "- Grundkenntnisse in Flask, SQLAlchemy und der Verwendung von HTTP-Requests sind erforderlich.\n",
    "\n",
    "### Aufgabenstellung\n",
    "\n",
    "1. **Einrichten eines Flask-Projekts mit SQLAlchemy**:\n",
    "   - Erstellen Sie ein neues Flask-Projekt.\n",
    "   - Konfigurieren Sie SQLAlchemy mit einer lokalen SQLite-Datenbank.\n",
    "\n",
    "2. **Datenmodell `Auto` erstellen**:\n",
    "   - Definieren Sie ein Modell `Auto` mit den Feldern `id` (Integer, Primärschlüssel) und `marke` (String).\n",
    "\n",
    "3. **CRUD-Operationen implementieren**:\n",
    "   - Implementieren Sie Flask-Routen, um Autos hinzuzufügen (`/add-auto`), alle Autos anzuzeigen (`/autos`) und ein bestimmtes Auto zu löschen (`/delete-auto/<id>`).\n",
    "\n",
    "4. **Testen der Routes mit `curl`**:\n",
    "   - Führen Sie Test-HTTP-Requests mit `curl` aus, um die Funktionalität Ihrer Routen zu überprüfen.\n",
    "\n",
    "### Lösung zur Übungsaufgabe"
   ]
  },
  {
   "cell_type": "code",
   "execution_count": 20,
   "metadata": {},
   "outputs": [
    {
     "name": "stdout",
     "output_type": "stream",
     "text": [
      " * Serving Flask app '__main__'\n",
      " * Debug mode: off\n"
     ]
    },
    {
     "name": "stderr",
     "output_type": "stream",
     "text": [
      "\u001b[31m\u001b[1mWARNING: This is a development server. Do not use it in a production deployment. Use a production WSGI server instead.\u001b[0m\n",
      " * Running on http://127.0.0.1:5000\n",
      "\u001b[33mPress CTRL+C to quit\u001b[0m\n",
      "127.0.0.1 - - [11/Dec/2023 16:26:19] \"GET /autos HTTP/1.1\" 200 -\n",
      "/var/folders/n9/5zsytn3s4hj75c26k015w8080000gp/T/ipykernel_6658/3503689519.py:38: LegacyAPIWarning: The Query.get() method is considered legacy as of the 1.x series of SQLAlchemy and becomes a legacy construct in 2.0. The method is now available as Session.get() (deprecated since: 2.0) (Background on SQLAlchemy 2.0 at: https://sqlalche.me/e/b8d9)\n",
      "  auto = Auto.query.get(id)\n",
      "127.0.0.1 - - [11/Dec/2023 16:26:25] \"DELETE /delete-auto/1 HTTP/1.1\" 200 -\n",
      "127.0.0.1 - - [11/Dec/2023 16:26:29] \"\u001b[35m\u001b[1mPOST /add-auto HTTP/1.1\u001b[0m\" 201 -\n",
      "127.0.0.1 - - [11/Dec/2023 16:26:34] \"\u001b[35m\u001b[1mPOST /add-auto HTTP/1.1\u001b[0m\" 201 -\n",
      "127.0.0.1 - - [11/Dec/2023 16:26:38] \"GET /autos HTTP/1.1\" 200 -\n"
     ]
    }
   ],
   "source": [
    "import os\n",
    "from flask import Flask, request, jsonify\n",
    "from flask_sqlalchemy import SQLAlchemy\n",
    "\n",
    "app = Flask(__name__)\n",
    "\n",
    "# Stellen Sie sicher, dass das Verzeichnis für die Datenbank existiert\n",
    "database_dir = os.path.join(os.path.abspath(os.curdir), 'db')\n",
    "if not os.path.exists(database_dir):\n",
    "    os.makedirs(database_dir)\n",
    "\n",
    "# Absolute Pfadangabe zur Datenbankdatei\n",
    "database_path = os.path.join(database_dir, 'autos.db')\n",
    "app.config['SQLALCHEMY_DATABASE_URI'] = f'sqlite:///{database_path}'\n",
    "db = SQLAlchemy(app)\n",
    "\n",
    "class Auto(db.Model):\n",
    "    id = db.Column(db.Integer, primary_key=True)\n",
    "    marke = db.Column(db.String)\n",
    "\n",
    "@app.route('/add-auto', methods=['POST'])\n",
    "def add_auto():\n",
    "    if not request.json or 'marke' not in request.json:\n",
    "        return jsonify({\"message\": \"Bad Request\"}), 400\n",
    "    marke = request.json['marke']\n",
    "    new_auto = Auto(marke=marke)\n",
    "    db.session.add(new_auto)\n",
    "    db.session.commit()\n",
    "    return jsonify({\"message\": \"Auto added\"}), 201\n",
    "\n",
    "@app.route('/autos', methods=['GET'])\n",
    "def get_autos():\n",
    "    autos = Auto.query.all()\n",
    "    return jsonify([{\"id\": auto.id, \"marke\": auto.marke} for auto in autos]), 200\n",
    "\n",
    "@app.route('/delete-auto/<int:id>', methods=['DELETE'])\n",
    "def delete_auto(id):\n",
    "    auto = Auto.query.get(id)\n",
    "    if auto:\n",
    "        db.session.delete(auto)\n",
    "        db.session.commit()\n",
    "        return jsonify({\"message\": \"Auto deleted\"}), 200\n",
    "    return jsonify({\"message\": \"Auto not found\"}), 404\n",
    "\n",
    "if __name__ == '__main__':\n",
    "    with app.app_context():\n",
    "        db.create_all()\n",
    "    app.run()  # Ändern Sie den Port hier bei Bedarf\n"
   ]
  },
  {
   "cell_type": "markdown",
   "metadata": {},
   "source": [
    "### Testen der Routes mit `curl`\n",
    "\n",
    "```bash\n",
    "# Ein Auto hinzufügen\n",
    "curl -X POST -H \"Content-Type: application/json\" -d '{\"marke\": \"BMW\"}' http://localhost:5000/add-auto\n",
    "\n",
    "# Alle Autos anzeigen\n",
    "curl http://localhost:5000/autos\n",
    "\n",
    "# Ein Auto löschen\n",
    "curl -X DELETE http://localhost:5000/delete-auto/1\n",
    "```"
   ]
  }
 ],
 "metadata": {
  "kernelspec": {
   "display_name": ".venv",
   "language": "python",
   "name": "python3"
  },
  "language_info": {
   "codemirror_mode": {
    "name": "ipython",
    "version": 3
   },
   "file_extension": ".py",
   "mimetype": "text/x-python",
   "name": "python",
   "nbconvert_exporter": "python",
   "pygments_lexer": "ipython3",
   "version": "3.11.6"
  }
 },
 "nbformat": 4,
 "nbformat_minor": 2
}
