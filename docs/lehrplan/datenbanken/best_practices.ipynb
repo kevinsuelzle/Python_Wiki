{
 "cells": [
  {
   "cell_type": "markdown",
   "metadata": {},
   "source": [
    "## Best Practices in SQLAlchemy\n",
    "\n",
    "### Code-Organisation und -Strukturierung\n",
    "\n",
    "Eine effiziente Organisation und Strukturierung des Codes ist wesentlich, um die Wartbarkeit und Erweiterbarkeit von Anwendungen, die SQLAlchemy verwenden, zu gewährleisten.\n",
    "\n",
    "#### Modellierung\n",
    "\n",
    "- **Definieren von Modellen**: Organisieren Sie Ihre Modelldefinitionen in separaten Dateien oder Modulen, um die Übersichtlichkeit zu bewahren. Jedes Modell sollte einer Tabelle in Ihrer Datenbank entsprechen."
   ]
  },
  {
   "cell_type": "code",
   "execution_count": null,
   "metadata": {},
   "outputs": [],
   "source": [
    "# models.py\n",
    "from sqlalchemy.ext.declarative import declarative_base\n",
    "from sqlalchemy import Column, Integer, String\n",
    "\n",
    "Base = declarative_base()\n",
    "\n",
    "class User(Base):\n",
    "    __tablename__ = 'users'\n",
    "    id = Column(Integer, primary_key=True)\n",
    "    name = Column(String)"
   ]
  },
  {
   "cell_type": "markdown",
   "metadata": {},
   "source": [
    "\n",
    "- **Verwenden von Mixins**: Mixins sind ein fortgeschrittenes Konzept in SQLAlchemy, das dazu dient, gemeinsame Spalten und Methoden in mehreren Tabellenmodellen wiederverwendbar zu gestalten. Sie sind besonders nützlich, um Code-Duplikation zu vermeiden und eine saubere, modulare Struktur in Ihrem Datenbankmodell zu gewährleisten. Ein Mixin ist eine Klasse, die Felder und Methoden definiert, die in mehreren Modellen wiederverwendet werden können. Mixins sollten von object erben, nicht von Base."
   ]
  },
  {
   "cell_type": "code",
   "execution_count": null,
   "metadata": {},
   "outputs": [],
   "source": [
    "# mixins.py\n",
    "from sqlalchemy import Column, DateTime\n",
    "from sqlalchemy.sql import func\n",
    "\n",
    "class TimestampMixin:\n",
    "    created_at = Column(DateTime, default=func.now())\n",
    "    updated_at = Column(DateTime, default=func.now(), onupdate=func.now())"
   ]
  },
  {
   "cell_type": "markdown",
   "metadata": {},
   "source": [
    "**Integration in Modelle**: Um ein Mixin in einem Modell zu verwenden, erben Sie einfach von der Mixin-Klasse neben der Basisklasse Base. Die Attribute und Methoden des Mixins werden automatisch in das Modell integriert."
   ]
  },
  {
   "cell_type": "code",
   "execution_count": null,
   "metadata": {},
   "outputs": [],
   "source": [
    "# models.py\n",
    "from sqlalchemy.ext.declarative import declarative_base\n",
    "from sqlalchemy import Column, Integer, String\n",
    "from mixins import TimestampMixin\n",
    "\n",
    "Base = declarative_base()\n",
    "\n",
    "class User(Base, TimestampMixin):\n",
    "    __tablename__ = 'users'\n",
    "    id = Column(Integer, primary_key=True)\n",
    "    name = Column(String)"
   ]
  },
  {
   "cell_type": "markdown",
   "metadata": {},
   "source": [
    "#### Session-Management\n",
    "\n",
    "- **Session-Factory**: Verwenden Sie `sessionmaker` zur Erstellung einer Session-Factory und erstellen Sie Sessions bei Bedarf."
   ]
  },
  {
   "cell_type": "code",
   "execution_count": null,
   "metadata": {},
   "outputs": [],
   "source": [
    "# database.py\n",
    "from sqlalchemy import create_engine\n",
    "from sqlalchemy.orm import sessionmaker\n",
    "\n",
    "engine = create_engine('sqlite:///example.db')\n",
    "Session = sessionmaker(bind=engine)"
   ]
  },
  {
   "cell_type": "markdown",
   "metadata": {},
   "source": [
    "- **Context Manager**: Nutzen Sie Python's Context Manager (mit `with`-Statement), um sicherzustellen, dass Sessions ordnungsgemäß geschlossen werden."
   ]
  },
  {
   "cell_type": "code",
   "execution_count": null,
   "metadata": {},
   "outputs": [],
   "source": [
    "# main.py\n",
    "from database import Session\n",
    "from models import User\n",
    "\n",
    "with Session() as session:\n",
    "    user = session.query(User).first()\n",
    "    print(user.name)"
   ]
  },
  {
   "cell_type": "markdown",
   "metadata": {},
   "source": [
    "\n",
    "### Fehlerbehandlung und Debugging\n",
    "\n",
    "#### Fehlerbehandlung\n",
    "\n",
    "- **Transaktionsmanagement**: Nutzen Sie `try-except`-Blöcke um Transaktionen, um Fehler zu fangen und die Transaktion bei Bedarf zurückzurollen."
   ]
  },
  {
   "cell_type": "code",
   "execution_count": null,
   "metadata": {},
   "outputs": [],
   "source": [
    "try:\n",
    "    with Session() as session:\n",
    "        session.add(some_data)\n",
    "        session.commit()\n",
    "except Exception as e:\n",
    "    print(f\"Fehler aufgetreten: {e}\")\n",
    "    session.rollback()"
   ]
  },
  {
   "cell_type": "markdown",
   "metadata": {},
   "source": [
    "#### Debugging\n",
    "\n",
    "- **SQL-Logging aktivieren**: Um zu sehen, welche SQL-Befehle SQLAlchemy ausführt, können Sie das SQL-Logging aktivieren."
   ]
  },
  {
   "cell_type": "code",
   "execution_count": null,
   "metadata": {},
   "outputs": [],
   "source": [
    "import logging\n",
    "\n",
    "logging.basicConfig()\n",
    "logging.getLogger('sqlalchemy.engine').setLevel(logging.INFO)"
   ]
  },
  {
   "cell_type": "markdown",
   "metadata": {},
   "source": [
    "- **Verwendung von Query-Attributen**: SQLAlchemy-Queries haben Attribute wie `.statement`, die das rohe SQL-Statement ausgeben, was beim Debugging hilfreich sein kann."
   ]
  },
  {
   "cell_type": "code",
   "execution_count": null,
   "metadata": {},
   "outputs": [],
   "source": [
    "query = session.query(User)\n",
    "print(query.statement)"
   ]
  },
  {
   "cell_type": "markdown",
   "metadata": {},
   "source": [
    "### Zusammenfassung\n",
    "\n",
    "Die Beachtung von Best Practices in SQLAlchemy hinsichtlich Code-Organisation, Session-Management, Fehlerbehandlung und Debugging trägt dazu bei, robuste, wartbare und effiziente Anwendungen zu entwickeln. Durch eine klare Strukturierung der Modelle und die richtige Handhabung von Sessions und Transaktionen können viele häufige Fehler vermieden werden. Debugging-Tools und -Techniken helfen dabei, Probleme effizient zu identifizieren und zu lösen."
   ]
  },
  {
   "cell_type": "markdown",
   "metadata": {},
   "source": [
    "## Übungsaufgabe: Einsatz von Mixins in SQLAlchemy\n",
    "\n",
    "[60 min]\n",
    "\n",
    "### Ziel der Aufgabe\n",
    "\n",
    "In dieser Übung werden Sie das Konzept der Mixins in SQLAlchemy praktisch anwenden, um eine saubere und wiederverwendbare Struktur für Ihre Datenbankmodelle zu erstellen. Sie werden ein Mixin definieren, das in verschiedenen Modellen verwendet wird, um gemeinsame Attribute zu implementieren.\n",
    "\n",
    "### Voraussetzungen\n",
    "\n",
    "Stellen Sie sicher, dass SQLAlchemy in Ihrer Python-Umgebung installiert ist. Grundlegende Kenntnisse in Python und SQLAlchemy sind erforderlich.\n",
    "\n",
    "### Aufgabenstellung\n",
    "\n",
    "1. **Definieren eines Timestamp-Mixins**:\n",
    "   - Erstellen Sie ein Mixin namens `TimestampMixin`, das zwei Spalten `created_at` und `updated_at` enthält. Diese Spalten sollen die Erstellungs- und letzte Aktualisierungszeitstempel speichern.\n",
    "\n",
    "2. **Erstellen von Datenbankmodellen**:\n",
    "   - Definieren Sie zwei Modelle, `User` und `Article`. Beide Modelle sollen von `Base` und `TimestampMixin` erben.\n",
    "   - `User` soll zusätzlich die Spalten `id` (Primärschlüssel) und `name` haben.\n",
    "   - `Article` soll zusätzlich die Spalten `id`, `title` und `content` haben.\n",
    "\n",
    "3. **Datenbank und Tabellen erstellen**:\n",
    "   - Erstellen Sie eine SQLite-Datenbank und die definierten Tabellen.\n",
    "\n",
    "4. **Daten einfügen und abfragen**:\n",
    "   - Fügen Sie einige Datensätze in beide Tabellen ein.\n",
    "   - Führen Sie Abfragen durch, um die eingefügten Daten sowie die automatisch gesetzten Zeitstempel anzuzeigen.\n",
    "\n",
    "### Lösung zur Übungsaufgabe"
   ]
  },
  {
   "cell_type": "code",
   "execution_count": 3,
   "metadata": {},
   "outputs": [
    {
     "name": "stdout",
     "output_type": "stream",
     "text": [
      "User: Alice, Created at: 2023-12-11 14:35:14, Updated at: 2023-12-11 14:35:14\n",
      "Article: Hello World, Created at: 2023-12-11 14:35:14, Updated at: 2023-12-11 14:35:14\n"
     ]
    }
   ],
   "source": [
    "from sqlalchemy import create_engine, Column, Integer, String, DateTime, func\n",
    "from sqlalchemy.orm import declarative_base\n",
    "from sqlalchemy.orm import sessionmaker\n",
    "\n",
    "# Mixin definieren\n",
    "class TimestampMixin:\n",
    "    created_at = Column(DateTime, default=func.now())\n",
    "    updated_at = Column(DateTime, default=func.now(), onupdate=func.now())\n",
    "\n",
    "# Basis und Modelle definieren\n",
    "Base = declarative_base()\n",
    "\n",
    "class User(TimestampMixin, Base):\n",
    "    __tablename__ = 'users'\n",
    "    id = Column(Integer, primary_key=True)\n",
    "    name = Column(String)\n",
    "\n",
    "class Article(TimestampMixin, Base):\n",
    "    __tablename__ = 'articles'\n",
    "    id = Column(Integer, primary_key=True)\n",
    "    title = Column(String)\n",
    "    content = Column(String)\n",
    "\n",
    "# Datenbank und Tabellen erstellen\n",
    "engine = create_engine('sqlite:///db/mixin_example.db')\n",
    "Base.metadata.create_all(engine)\n",
    "\n",
    "# Session erstellen und Daten hinzufügen\n",
    "Session = sessionmaker(bind=engine)\n",
    "session = Session()\n",
    "\n",
    "# Daten hinzufügen\n",
    "user = User(name=\"Alice\")\n",
    "article = Article(title=\"Hello World\", content=\"This is a test article.\")\n",
    "session.add_all([user, article])\n",
    "session.commit()\n",
    "\n",
    "# Daten abfragen und Zeitstempel anzeigen\n",
    "users = session.query(User).all()\n",
    "articles = session.query(Article).all()\n",
    "\n",
    "for user in users:\n",
    "    print(f\"User: {user.name}, Created at: {user.created_at}, Updated at: {user.updated_at}\")\n",
    "\n",
    "for article in articles:\n",
    "    print(f\"Article: {article.title}, Created at: {article.created_at}, Updated at: {article.updated_at}\")\n",
    "\n",
    "session.close()"
   ]
  },
  {
   "cell_type": "markdown",
   "metadata": {},
   "source": [
    "## Integration von SQLAlchemy in größere Projekte\n",
    "\n",
    "### Verwendung von SQLAlchemy in Web-Frameworks\n",
    "\n",
    "SQLAlchemy, als flexibles und mächtiges ORM (Object-Relational Mapping)-Tool, kann effektiv in Web-Frameworks integriert werden, um die Datenbankinteraktion zu erleichtern. Diese Integration ist besonders nützlich in Projekten, die komplexe Datenmodelle oder erweiterte Datenbankoperationen erfordern.\n",
    "\n",
    "#### Integration in Flask\n",
    "\n",
    "Flask ist ein leichtgewichtiges und flexibles Python-Web-Framework, das sich hervorragend für die Integration mit SQLAlchemy eignet. Flask selbst bietet kein eigenes ORM-System, weshalb die Verwendung von Flask-SQLAlchemy sehr verbreitet ist.\n",
    "\n",
    "1. **Einrichtung von Flask-SQLAlchemy**:\n",
    "   Flask-SQLAlchemy ist eine Erweiterung, die die Integration von SQLAlchemy in Flask-Anwendungen vereinfacht. Um sie zu verwenden, müssen Sie die Erweiterung installieren und in Ihrer Flask-Anwendung konfigurieren."
   ]
  },
  {
   "cell_type": "code",
   "execution_count": null,
   "metadata": {},
   "outputs": [],
   "source": [
    "from flask import Flask\n",
    "from flask_sqlalchemy import SQLAlchemy\n",
    "\n",
    "app = Flask(__name__)\n",
    "app.config['SQLALCHEMY_DATABASE_URI'] = 'sqlite:///example.db'  # Lokale SQLite-Datenbank\n",
    "db = SQLAlchemy(app)"
   ]
  },
  {
   "cell_type": "markdown",
   "metadata": {},
   "source": [
    "2. **Modelldefinitionen**:\n",
    "   Mit Flask-SQLAlchemy können Sie Ihre Datenbankmodelle ähnlich wie bei der Standardnutzung von SQLAlchemy definieren. Diese Modelle werden dann verwendet, um Tabellen in Ihrer lokalen Datenbank zu erstellen."
   ]
  },
  {
   "cell_type": "code",
   "execution_count": null,
   "metadata": {},
   "outputs": [],
   "source": [
    "class User(db.Model):\n",
    "    id = db.Column(db.Integer, primary_key=True)\n",
    "    name = db.Column(db.String)\n",
    "    def __repr__(self):\n",
    "        return f'<User {self.name}>'"
   ]
  },
  {
   "cell_type": "markdown",
   "metadata": {},
   "source": [
    "3. **Datenbankoperationen**:\n",
    "   In Ihren Flask-Routen können Sie nun CRUD-Operationen auf Ihren Datenbankmodellen durchführen. Flask-SQLAlchemy vereinfacht diese Operationen, indem es eine abstrahierte API bietet, die hinter den Kulissen SQLAlchemy nutzt."
   ]
  },
  {
   "cell_type": "code",
   "execution_count": null,
   "metadata": {},
   "outputs": [],
   "source": [
    "@app.route('/')\n",
    "def index():\n",
    "    users = User.query.all()\n",
    "    return ', '.join([user.name for user in users])"
   ]
  },
  {
   "cell_type": "markdown",
   "metadata": {},
   "source": [
    "#### Integration in Django\n",
    "\n",
    "Django, ein weiteres beliebtes Python-Web-Framework, kommt mit seinem eigenen ORM-System. Die Integration von SQLAlchemy in Django-Projekte ist unüblich und kann kompliziert sein, da Django's ORM und SQLAlchemy unterschiedliche Ansätze und Philosophien haben. In den meisten Fällen wird empfohlen, das eingebaute ORM-System von Django zu verwenden. Für spezielle Fälle, in denen SQLAlchemy benötigt wird, erfordert dies eine sorgfältige Trennung der Komponenten und möglicherweise zusätzliche Konfiguration.\n",
    "\n",
    "### Umgang mit asynchronen Anfragen\n",
    "\n",
    "Asynchrone Programmierung wird immer wichtiger in der Webentwicklung, um effiziente, nicht-blockierende Anwendungen zu erstellen. SQLAlchemy bietet ab Version 1.4 Unterstützung für asynchrone Datenbankoperationen.\n",
    "\n",
    "1. **Einrichten einer asynchronen Engine**:\n",
    "   Um asynchrone Operationen zu ermöglichen, verwenden Sie eine asynchrone Engine, die mit einer geeigneten asynchronen Datenbank-API wie `aiosqlite` für SQLite-Datenbanken arbeitet."
   ]
  },
  {
   "cell_type": "code",
   "execution_count": null,
   "metadata": {},
   "outputs": [],
   "source": [
    "from sqlalchemy.ext.asyncio import create_async_engine, AsyncSession\n",
    "from sqlalchemy.orm import sessionmaker\n",
    "\n",
    "async_engine = create_async_engine('sqlite+aiosqlite:///example.db')\n",
    "AsyncSessionLocal = sessionmaker(bind=async_engine, class_=AsyncSession, expire_on_commit=False)"
   ]
  },
  {
   "cell_type": "markdown",
   "metadata": {},
   "source": [
    "2. **Asynchrone Datenbankoperationen**:\n",
    "   Asynchrone Datenbankoperationen können nun mit der `await`-Syntax durchgeführt werden. Dies ermöglicht es Ihrer Anwendung, andere Aufgaben fortzusetzen, während die Datenbankoperation ausgeführt wird."
   ]
  },
  {
   "cell_type": "code",
   "execution_count": null,
   "metadata": {},
   "outputs": [],
   "source": [
    "async def get_users():\n",
    "    async with AsyncSessionLocal() as session:\n",
    "        result = await session.execute(select(User))\n",
    "        users = result.scalars().all()\n",
    "        return users"
   ]
  },
  {
   "cell_type": "markdown",
   "metadata": {},
   "source": [
    "### Zusammenfassung\n",
    "\n",
    "Die Integration von SQLAlchemy in Web-Frameworks wie Flask bietet erhebliche Flexibilität und Leistung für die Datenbankinteraktion. Für Django-Projekte ist jedoch Vorsicht geboten, da hier das eingebaute ORM-System vorherrscht. Asynchrone Operationen in SQLAlchemy eröffnen neue Möglichkeiten für die Entwicklung effizienter und moderner Webanwendungen, insbesondere wenn es um die Handhabung von nicht-blockierenden Datenbankoperationen geht. Insgesamt ermöglicht SQLAlchemy eine nahtlose und leistungsfähige Datenverwaltung in Python-basierten Webprojekten."
   ]
  }
 ],
 "metadata": {
  "kernelspec": {
   "display_name": ".venv",
   "language": "python",
   "name": "python3"
  },
  "language_info": {
   "codemirror_mode": {
    "name": "ipython",
    "version": 3
   },
   "file_extension": ".py",
   "mimetype": "text/x-python",
   "name": "python",
   "nbconvert_exporter": "python",
   "pygments_lexer": "ipython3",
   "version": "3.11.6"
  }
 },
 "nbformat": 4,
 "nbformat_minor": 2
}
