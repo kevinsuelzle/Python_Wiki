{
 "cells": [
  {
   "cell_type": "markdown",
   "metadata": {},
   "source": [
    "# Fortgeschrittene ORM- Konzepte\n",
    "## Erstellen von Abfragen mit SQLAlchemy\n",
    "[10 min]\n",
    "\n",
    "SQLAlchemy bietet eine reiche und intuitive API zur Erstellung von Abfragen. Diese Abfragen ermöglichen es Ihnen, Daten aus Ihrer Datenbank auf flexible Weise abzurufen.\n",
    "\n",
    "- **Abfrage erstellen**: Eine Abfrage wird in SQLAlchemy mit der `query()`-Methode erstellt. Sie können angeben, welche Modelle oder Felder Sie abfragen möchten."
   ]
  },
  {
   "cell_type": "code",
   "execution_count": null,
   "metadata": {},
   "outputs": [],
   "source": [
    "result = session.query(MyModel).all()"
   ]
  },
  {
   "cell_type": "markdown",
   "metadata": {},
   "source": [
    "  Hierbei ist `MyModel` ein SQLAlchemy-Modell, das eine Datenbanktabelle repräsentiert.\n",
    "\n",
    "- **Auswahl spezifischer Spalten**: Sie können spezifische Spalten auswählen, anstatt alle Spalten eines Modells abzufragen."
   ]
  },
  {
   "cell_type": "code",
   "execution_count": null,
   "metadata": {},
   "outputs": [],
   "source": [
    "result = session.query(MyModel.column1, MyModel.column2).all()"
   ]
  },
  {
   "cell_type": "markdown",
   "metadata": {},
   "source": [
    "\n",
    "## Arbeiten mit Filtern, Sortierung und Aggregation\n",
    "[15 min]\n",
    "\n",
    "- **Filtern**: Sie können Abfragen mit Bedingungen filtern, um nur Datensätze abzurufen, die bestimmten Kriterien entsprechen."
   ]
  },
  {
   "cell_type": "code",
   "execution_count": null,
   "metadata": {},
   "outputs": [],
   "source": [
    "result = session.query(MyModel).filter(MyModel.column == 'wert').all()"
   ]
  },
  {
   "cell_type": "markdown",
   "metadata": {},
   "source": [
    "  Es ist auch möglich, mehrere Filterbedingungen zu kombinieren.\n",
    "\n",
    "- **Sortierung**: SQLAlchemy ermöglicht es Ihnen, die Ergebnisse einer Abfrage zu sortieren."
   ]
  },
  {
   "cell_type": "code",
   "execution_count": null,
   "metadata": {},
   "outputs": [],
   "source": [
    "result = session.query(MyModel).order_by(MyModel.column).all()"
   ]
  },
  {
   "cell_type": "markdown",
   "metadata": {},
   "source": [
    "- **Aggregation**: SQLAlchemy bietet Funktionen zur Durchführung von Aggregationsoperationen wie `count`, `sum`, `avg`, etc."
   ]
  },
  {
   "cell_type": "code",
   "execution_count": null,
   "metadata": {},
   "outputs": [],
   "source": [
    "result = session.query(func.count(MyModel.column)).all()"
   ]
  },
  {
   "cell_type": "markdown",
   "metadata": {},
   "source": [
    "Hierbei ist `func` ein Modul in SQLAlchemy, das SQL-Funktionen wie `count` bereitstellt.\n",
    "\n",
    "## Definition und Verwendung von Beziehungen zwischen Tabellen\n",
    "[15 min]\n",
    "\n",
    "Beziehungen sind ein zentrales Konzept in relationalen Datenbanken. SQLAlchemy ermöglicht es Ihnen, Beziehungen zwischen Tabellen auf einfache und Pythonische Weise zu definieren und zu nutzen.\n",
    "\n",
    "- **Definition einer Beziehung**: Eine Beziehung wird in SQLAlchemy mit der `relationship`-Funktion definiert."
   ]
  },
  {
   "cell_type": "code",
   "execution_count": null,
   "metadata": {},
   "outputs": [],
   "source": [
    "class Parent(Base):\n",
    "    __tablename__ = 'parent'\n",
    "    id = Column(Integer, primary_key=True)\n",
    "    children = relationship(\"Child\")\n",
    "\n",
    "class Child(Base):\n",
    "    __tablename__ = 'child'\n",
    "    id = Column(Integer, primary_key=True)\n",
    "    parent_id = Column(Integer, ForeignKey('parent.id'))"
   ]
  },
  {
   "cell_type": "markdown",
   "metadata": {},
   "source": [
    "In diesem Beispiel hat ein `Parent` mehrere `Children`. Die `relationship`-Funktion erstellt eine Verbindung zwischen `Parent` und `Child`.\n",
    "\n",
    "- **Verwenden von Beziehungen in Abfragen**: Sobald eine Beziehung definiert ist, können Sie diese in Ihren Abfragen verwenden.\n"
   ]
  },
  {
   "cell_type": "code",
   "execution_count": null,
   "metadata": {},
   "outputs": [],
   "source": [
    "result = session.query(Parent).join(Child).filter(Child.column == 'wert').all()"
   ]
  },
  {
   "cell_type": "markdown",
   "metadata": {},
   "source": [
    "  Dies ermöglicht das effiziente Abfragen von Daten über Tabellengrenzen hinweg unter Ausnutzung der relationalen Struktur Ihrer Datenbank.\n",
    "\n",
    "### Zusammenfassung\n",
    "\n",
    "Diese Sitzung gibt Ihnen einen Überblick über die Grundlagen der Datenabfrage in SQLAlchemy, einschließlich der Auswahl, des Filterns, Sortierens und der Aggregation von Daten sowie der Definition und Verwendung von Beziehungen zwischen Tabellen. Durch das Verständnis dieser Konzepte können Sie die Leistungsfähigkeit von SQLAlchemy effektiv nutzen, um komplexe Datenbankabfragen und -operationen in Python durchzuführen."
   ]
  },
  {
   "cell_type": "markdown",
   "metadata": {},
   "source": [
    "## Übungsaufgabe: Abfragen und Beziehungen in SQLAlchemy 🌶️🌶️🌶️\n",
    "[60 min]\n",
    "\n",
    "### Ziel der Aufgabe\n",
    "\n",
    "In dieser Übung werden Sie die in der Session erlernten Konzepte anwenden, um Abfragen zu erstellen und Beziehungen zwischen Tabellen in einer SQLAlchemy-basierten Python-Anwendung zu nutzen.\n",
    "\n",
    "### Voraussetzungen\n",
    "\n",
    "Sie sollten mit den Grundlagen von SQLAlchemy vertraut sein, einschließlich der Erstellung von Modellen und der Durchführung einfacher Abfragen.\n",
    "\n",
    "### Aufgabenstellung\n",
    "\n",
    "1. **Vorbereitung der Umgebung**:\n",
    "   - Stellen Sie sicher, dass SQLAlchemy in Ihrer Python-Umgebung installiert ist.\n",
    "   - Definieren Sie zwei Modelle: `Author` und `Book`. `Author` soll die Felder `id` und `name` haben, `Book` die Felder `id`, `title`, `published_year` und `author_id`.\n",
    "\n",
    "2. **Definieren Sie Beziehungen**:\n",
    "   - Fügen Sie eine Beziehung zwischen `Author` und `Book` hinzu, sodass ein Autor mehrere Bücher haben kann.\n",
    "\n",
    "3. **Füllen Sie die Datenbank**:\n",
    "   - Erstellen Sie mehrere Autoren und Bücher. Stellen Sie sicher, dass die Bücher Autoren zugewiesen sind.\n",
    "\n",
    "4. **Abfrage von Büchern eines bestimmten Autors**:\n",
    "   - Schreiben Sie eine Abfrage, um alle Bücher eines bestimmten Autors abzurufen.\n",
    "\n",
    "5. **Abfrage nach Büchern innerhalb eines bestimmten Zeitraums**:\n",
    "   - Schreiben Sie eine Abfrage, um alle Bücher zu finden, die zwischen 1990 und 2000 veröffentlicht wurden.\n",
    "\n",
    "6. **Sortieren von Büchern nach Veröffentlichungsjahr**:\n",
    "   - Schreiben Sie eine Abfrage, um alle Bücher eines Autors, sortiert nach ihrem Veröffentlichungsjahr, abzurufen.\n",
    "\n",
    "7. **Bonus**: Implementieren Sie eine Aggregationsabfrage, um die Anzahl der Bücher zu zählen, die jeder Autor geschrieben hat.\n",
    "\n",
    "### Hinweise\n",
    "\n",
    "- Verwenden Sie `relationship` und `ForeignKey` zur Definition der Beziehung zwischen `Author` und `Book`.\n",
    "- Um Beziehungen in Abfragen zu nutzen, verwenden Sie `.join()` oder lassen Sie SQLAlchemy die Verbindung automatisch herstellen, indem Sie die Beziehung direkt abfragen.\n",
    "- Für die Sortierung und Filterung von Ergebnissen nutzen Sie `.order_by()` und `.filter()`.\n",
    "\n",
    "### Lösung"
   ]
  },
  {
   "cell_type": "code",
   "execution_count": 12,
   "metadata": {},
   "outputs": [
    {
     "name": "stdout",
     "output_type": "stream",
     "text": [
      "Bücher von Autor 1: [<Book(id=1, title='Buch 1', published_year=1995, author_id=1)>, <Book(id=2, title='Buch 2', published_year=1999, author_id=1)>]\n",
      "Bücher veröffentlicht zwischen 1990 und 2000: [<Book(id=1, title='Buch 1', published_year=1995, author_id=1)>, <Book(id=2, title='Buch 2', published_year=1999, author_id=1)>]\n",
      "Sortierte Bücher von Autor 1: [<Book(id=1, title='Buch 1', published_year=1995, author_id=1)>, <Book(id=2, title='Buch 2', published_year=1999, author_id=1)>]\n",
      "Anzahl der Bücher pro Autor: [('Autor 1', 2), ('Autor 2', 1)]\n"
     ]
    }
   ],
   "source": [
    "from sqlalchemy.orm import declarative_base\n",
    "from sqlalchemy.orm import sessionmaker, relationship\n",
    "from sqlalchemy import create_engine, Column, Integer, String, ForeignKey, func\n",
    "\n",
    "# Definieren der Basis\n",
    "Base = declarative_base()\n",
    "\n",
    "# Definition des Author-Modells\n",
    "class Author(Base):\n",
    "    __tablename__ = 'authors'\n",
    "    id = Column(Integer, primary_key=True)\n",
    "    name = Column(String)\n",
    "    books = relationship(\"Book\", backref=\"author\")\n",
    "\n",
    "    def __repr__(self):\n",
    "        return f\"<Author(id={self.id}, name='{self.name}')>\"\n",
    "\n",
    "# Definition des Book-Modells\n",
    "class Book(Base):\n",
    "    __tablename__ = 'books'\n",
    "    id = Column(Integer, primary_key=True)\n",
    "    title = Column(String)\n",
    "    published_year = Column(Integer)\n",
    "    author_id = Column(Integer, ForeignKey('authors.id'))\n",
    "\n",
    "    def __repr__(self):\n",
    "        return f\"<Book(id={self.id}, title='{self.title}', published_year={self.published_year}, author_id={self.author_id})>\"\n",
    "\n",
    "# Erstellen einer SQLite-Datenbank\n",
    "engine = create_engine('sqlite:///db/library.db')\n",
    "Base.metadata.create_all(engine)\n",
    "\n",
    "# Erstellen einer Session\n",
    "Session = sessionmaker(bind=engine)\n",
    "session = Session()\n",
    "\n",
    "# Füllen der Datenbank\n",
    "# Autoren hinzufügen\n",
    "author1 = Author(name=\"Autor 1\")\n",
    "author2 = Author(name=\"Autor 2\")\n",
    "\n",
    "# Bücher hinzufügen\n",
    "book1 = Book(title=\"Buch 1\", published_year=1995, author=author1)\n",
    "book2 = Book(title=\"Buch 2\", published_year=1999, author=author1)\n",
    "book3 = Book(title=\"Buch 3\", published_year=2001, author=author2)\n",
    "\n",
    "session.add_all([author1, author2, book1, book2, book3])\n",
    "session.commit()\n",
    "\n",
    "# Abfragen der Datenbank\n",
    "# Abfrage von Büchern eines bestimmten Autors\n",
    "books_by_author1 = session.query(Book).filter(Book.author == author1).all()\n",
    "print(\"Bücher von Autor 1:\", books_by_author1)\n",
    "\n",
    "# Abfrage nach Büchern innerhalb eines bestimmten Zeitraums\n",
    "books_1990s = session.query(Book).filter(Book.published_year.between(1990, 2000)).all()\n",
    "print(\"Bücher veröffentlicht zwischen 1990 und 2000:\", books_1990s)\n",
    "\n",
    "# Sortieren von Büchern nach Veröffentlichungsjahr\n",
    "sorted_books = session.query(Book).filter(Book.author == author1).order_by(Book.published_year).all()\n",
    "print(\"Sortierte Bücher von Autor 1:\", sorted_books)\n",
    "\n",
    "# Bonus: Aggregationsabfrage\n",
    "author_book_counts = session.query(\n",
    "    Author.name, \n",
    "    func.count(Book.id)\n",
    ").join(Book).group_by(Author.id).all()\n",
    "print(\"Anzahl der Bücher pro Autor:\", author_book_counts)\n",
    "\n",
    "# Schließen der Session\n",
    "session.close()"
   ]
  },
  {
   "cell_type": "markdown",
   "metadata": {},
   "source": [
    "## Übungsaufgabe: Komplexe Abfragen und Joins in SQLAlchemy 🌶️🌶️🌶️\n",
    "[60 min]\n",
    "\n",
    "### Ziel der Aufgabe\n",
    "\n",
    "Diese Übung zielt darauf ab, Ihre Fähigkeiten im Umgang mit komplexen Abfragen und Beziehungen in SQLAlchemy zu verbessern. Sie werden lernen, wie man Joins und Unterabfragen verwendet, sowie komplexere Beziehungen und Vererbung in Modellen handhabt.\n",
    "\n",
    "### Voraussetzungen\n",
    "\n",
    "Sie sollten mit den Grundlagen von SQLAlchemy vertraut sein und verstehen, wie man einfache Modelle und Abfragen erstellt.\n",
    "\n",
    "### Aufgabenstellung\n",
    "\n",
    "1. **Modelldefinitionen**:\n",
    "   - Definieren Sie drei Modelle: `Department`, `Employee` und `Project`.\n",
    "   - `Department` sollte Felder für `id` und `name` haben.\n",
    "   - `Employee` sollte Felder für `id`, `name`, `department_id` (Fremdschlüssel zu `Department`) und `manager_id` (selbstreferenzierender Fremdschlüssel) haben.\n",
    "   - `Project` sollte Felder für `id`, `name` und `department_id` haben.\n",
    "\n",
    "2. **Erstellen Sie Beziehungen**:\n",
    "   - Zwischen `Department` und `Employee` (One-to-Many).\n",
    "   - Zwischen `Employee` und `Project` über eine Assoziationstabelle (Many-to-Many).\n",
    "\n",
    "3. **Datenbank befüllen**:\n",
    "   - Erstellen Sie einige Beispieldatensätze für jedes Modell.\n",
    "\n",
    "4. **Komplexe Abfragen**:\n",
    "   - Schreiben Sie eine Abfrage, um alle Mitarbeiter eines bestimmten Departments anzuzeigen.\n",
    "   - Schreiben Sie eine Abfrage, um alle Projekte zu finden, an denen ein bestimmter Mitarbeiter arbeitet.\n",
    "   - Schreiben Sie eine Abfrage, um den Manager jedes Mitarbeiters (falls vorhanden) zu finden.\n",
    "\n",
    "### Hinweise\n",
    "\n",
    "- Verwenden Sie `relationship()` und `backref` für One-to-Many- und Many-to-One-Beziehungen.\n",
    "- Für die Many-to-Many-Beziehung zwischen `Employee` und `Project`, verwenden Sie eine Assoziationstabelle.\n",
    "- Nutzen Sie `join()` für Ihre Abfragen, um die erforderlichen Informationen aus den verbundenen Tabellen abzurufen.\n",
    "\n",
    "### Lösung"
   ]
  },
  {
   "cell_type": "code",
   "execution_count": 13,
   "metadata": {},
   "outputs": [
    {
     "name": "stdout",
     "output_type": "stream",
     "text": [
      "Mitarbeiter in der Entwicklungsabteilung: [<Employee(id=1, name='Alice', department_id=1, manager_id=None)>, <Employee(id=2, name='Bob', department_id=1, manager_id=1)>]\n",
      "Projekte von Alice: [<Project(id=1, name='Projekt Alpha')>]\n"
     ]
    }
   ],
   "source": [
    "from sqlalchemy import create_engine, Column, Integer, String, ForeignKey, Table\n",
    "from sqlalchemy.orm import declarative_base, sessionmaker, relationship\n",
    "\n",
    "Base = declarative_base()\n",
    "\n",
    "# Assoziationstabelle für die Many-to-Many-Beziehung zwischen Employee und Project\n",
    "employee_project_table = Table('employee_project', Base.metadata,\n",
    "    Column('employee_id', Integer, ForeignKey('employee.id')),\n",
    "    Column('project_id', Integer, ForeignKey('project.id'))\n",
    ")\n",
    "\n",
    "class Department(Base):\n",
    "    __tablename__ = 'department'\n",
    "    id = Column(Integer, primary_key=True)\n",
    "    name = Column(String)\n",
    "    employees = relationship(\"Employee\", backref=\"department\")\n",
    "\n",
    "    def __repr__(self):\n",
    "        return f\"<Department(id={self.id}, name='{self.name}')>\"\n",
    "\n",
    "class Employee(Base):\n",
    "    __tablename__ = 'employee'\n",
    "    id = Column(Integer, primary_key=True)\n",
    "    name = Column(String)\n",
    "    department_id = Column(Integer, ForeignKey('department.id'))\n",
    "    manager_id = Column(Integer, ForeignKey('employee.id'))\n",
    "    manager = relationship(\"Employee\", remote_side=[id])\n",
    "    projects = relationship(\"Project\", secondary=employee_project_table, backref=\"employees\")\n",
    "\n",
    "    def __repr__(self):\n",
    "        return f\"<Employee(id={self.id}, name='{self.name}', department_id={self.department_id}, manager_id={self.manager_id})>\"\n",
    "\n",
    "class Project(Base):\n",
    "    __tablename__ = 'project'\n",
    "    id = Column(Integer, primary_key=True)\n",
    "    name = Column(String)\n",
    "\n",
    "    def __repr__(self):\n",
    "        return f\"<Project(id={self.id}, name='{self.name}')>\"\n",
    "\n",
    "# Verbindung zur Datenbank herstellen\n",
    "engine = create_engine('sqlite:///db/company.db')\n",
    "Base.metadata.create_all(engine)\n",
    "\n",
    "# Erstellen einer Session\n",
    "Session = sessionmaker(bind=engine)\n",
    "session = Session()\n",
    "\n",
    "# Erstellen von Abteilungen\n",
    "dept1 = Department(name=\"Entwicklung\")\n",
    "dept2 = Department(name=\"Marketing\")\n",
    "\n",
    "# Erstellen von Mitarbeitern\n",
    "emp1 = Employee(name=\"Alice\", department=dept1)\n",
    "emp2 = Employee(name=\"Bob\", department=dept1, manager=emp1)\n",
    "emp3 = Employee(name=\"Charlie\", department=dept2, manager=emp2)\n",
    "\n",
    "# Erstellen von Projekten\n",
    "proj1 = Project(name=\"Projekt Alpha\")\n",
    "proj2 = Project(name=\"Projekt Beta\")\n",
    "\n",
    "# Zuweisung von Projekten zu Mitarbeitern\n",
    "emp1.projects.append(proj1)\n",
    "emp2.projects.append(proj2)\n",
    "emp3.projects.append(proj1)\n",
    "emp3.projects.append(proj2)\n",
    "\n",
    "# Daten zur Session hinzufügen und commiten\n",
    "session.add_all([dept1, dept2, emp1, emp2, emp3, proj1, proj2])\n",
    "session.commit()\n",
    "\n",
    "# Abfrage aller Mitarbeiter eines bestimmten Departments\n",
    "employees_in_dept = session.query(Employee).filter(Employee.department == dept1).all()\n",
    "print(\"Mitarbeiter in der Entwicklungsabteilung:\", employees_in_dept)\n",
    "\n",
    "# Abfrage aller Projekte, an denen ein bestimmter Mitarbeiter arbeitet\n",
    "projects_of_emp = session.query(Project).join(employee_project_table).join(Employee).filter(Employee.id == emp1.id).all()\n",
    "print(\"Projekte von Alice:\", projects_of_emp)"
   ]
  },
  {
   "cell_type": "markdown",
   "metadata": {},
   "source": [
    "## Transaktionen und Sitzungsmanagement\n",
    "[10 min]\n",
    "\n",
    "In SQLAlchemy spielt das Konzept von Transaktionen und Sitzungen (Sessions) eine zentrale Rolle. Eine Session in SQLAlchemy dient als Zwischenpuffer zwischen dem Objektmodell (Ihren Python-Klassen) und der Datenbank.\n",
    "\n",
    "### Grundlagen der Sitzungsverwaltung\n",
    "\n",
    "- **Erstellen einer Session**: Eine Session wird in SQLAlchemy mit der `sessionmaker`-Funktion erstellt. Sie ist der Startpunkt für alle Operationen mit der Datenbank."
   ]
  },
  {
   "cell_type": "code",
   "execution_count": null,
   "metadata": {},
   "outputs": [],
   "source": [
    "from sqlalchemy.orm import sessionmaker\n",
    "Session = sessionmaker(bind=engine)\n",
    "session = Session()"
   ]
  },
  {
   "cell_type": "markdown",
   "metadata": {},
   "source": [
    "- **Verwenden einer Session**: Über die Session interagieren Sie mit der Datenbank. Sie können Objekte hinzufügen, aktualisieren, abfragen und löschen."
   ]
  },
  {
   "cell_type": "code",
   "execution_count": null,
   "metadata": {},
   "outputs": [],
   "source": [
    "new_object = MyModel(name='Beispiel')\n",
    "session.add(new_object)\n",
    "session.commit()"
   ]
  },
  {
   "cell_type": "markdown",
   "metadata": {},
   "source": [
    "- **Schließen einer Session**: Es ist wichtig, eine Session zu schließen, um Ressourcen freizugeben und die Verbindung zur Datenbank ordnungsgemäß zu beenden."
   ]
  },
  {
   "cell_type": "code",
   "execution_count": null,
   "metadata": {},
   "outputs": [],
   "source": [
    "session.close()"
   ]
  },
  {
   "cell_type": "markdown",
   "metadata": {},
   "source": [
    "### Transaktionsmanagement\n",
    "[10 min]\n",
    "\n",
    "Jede Session in SQLAlchemy ist an eine Transaktion gebunden. Eine Transaktion umfasst eine Sequenz von Operationen, die als eine Einheit behandelt werden.\n",
    "\n",
    "- **Commit einer Transaktion**: Mit `session.commit()` werden alle Änderungen, die in der Session gemacht wurden, in die Datenbank übernommen."
   ]
  },
  {
   "cell_type": "code",
   "execution_count": null,
   "metadata": {},
   "outputs": [],
   "source": [
    "session.commit()"
   ]
  },
  {
   "cell_type": "markdown",
   "metadata": {},
   "source": [
    "- **Zurückrollen einer Transaktion**: Wenn während einer Transaktion ein Fehler auftritt, können Sie die Transaktion mit `session.rollback()` zurückrollen."
   ]
  },
  {
   "cell_type": "code",
   "execution_count": null,
   "metadata": {},
   "outputs": [],
   "source": [
    "try:\n",
    "    session.add(new_object)\n",
    "    session.commit()\n",
    "except:\n",
    "    session.rollback()\n",
    "    raise"
   ]
  },
  {
   "cell_type": "markdown",
   "metadata": {},
   "source": [
    "## Verständnis des Unit-of-Work-Musters\n",
    "[10 min]\n",
    "\n",
    "Das Unit-of-Work-Muster ist ein Entwurfsmuster, das sicherstellt, dass alle Änderungen an den Objekten in einer Transaktion entweder komplett in die Datenbank übernommen oder komplett verworfen werden. In SQLAlchemy wird dies durch die Session-Implementierung erreicht.\n",
    "\n",
    "- **Unit of Work**: Eine Session in SQLAlchemy repräsentiert ein \"Unit of Work\". Sie hält eine Liste aller Objekte fest, die geändert wurden (neu hinzugefügt, modifiziert, gelöscht).\n",
    "- **Automatisches Tracking von Änderungen**: SQLAlchemy trackt automatisch Änderungen an Objekten, die zur Session hinzugefügt wurden. Dies umfasst das Verfolgen von Änderungen an Feldwerten, das Hinzufügen oder Löschen von Objekten usw.\n",
    "- **Commit des Unit of Work**: Beim Commit einer Session werden alle gesammelten Änderungen in einer einzigen Transaktion an die Datenbank übermittelt.\n",
    "\n",
    "### Zusammenfassung\n",
    "\n",
    "Das Verständnis von Sitzungen und Transaktionen sowie des Unit-of-Work-Musters ist entscheidend für die effektive Nutzung von SQLAlchemy. Es ermöglicht Ihnen, Änderungen an Ihren Daten auf konsistente und kontrollierte Weise zu verwalten. Durch die Verwendung von Sessions können Sie sicherstellen, dass Ihre Datenbankoperationen atomar, konsistent, isoliert und dauerhaft (ACID-Eigenschaften) sind."
   ]
  },
  {
   "cell_type": "markdown",
   "metadata": {},
   "source": [
    "## Übungsaufgabe: Transaktionen und Sitzungsmanagement in SQLAlchemy 🌶️🌶️🌶️\n",
    "[60 min]\n",
    "\n",
    "### Ziel der Aufgabe\n",
    "In dieser Übung werden Sie Transaktionen und das Sitzungsmanagement in SQLAlchemy praktisch anwenden. Sie werden ein einfaches Szenario erstellen, in dem Sie Daten in einer Datenbank ändern und die Funktionsweise von Transaktionen und dem Unit-of-Work-Muster verstehen lernen.\n",
    "\n",
    "### Aufgabenstellung\n",
    "\n",
    "1. **Modell- und Datenbanksetup**:\n",
    "   - Definieren Sie ein einfaches Modell `Person` mit den Feldern `id` (Primärschlüssel) und `name`.\n",
    "   - Erstellen Sie eine SQLite-Datenbank und fügen Sie einige Einträge in die `Person`-Tabelle ein.\n",
    "\n",
    "2. **Transaktionsmanagement**:\n",
    "   - Schreiben Sie eine Funktion `add_person`, die eine neue `Person` hinzufügt. Nutzen Sie Transaktionsmanagement, um sicherzustellen, dass Änderungen nur bei Erfolg commitet werden.\n",
    "   - Simulieren Sie innerhalb der Funktion einen Fehler (z.B. durch Einfügen eines Duplikats) und stellen Sie sicher, dass die Transaktion zurückgerollt wird.\n",
    "\n",
    "3. **Abfrage und Änderung von Daten**:\n",
    "   - Führen Sie eine Abfrage aus, um alle Personen in der Datenbank zu finden.\n",
    "   - Ändern Sie den Namen einer Person und commiten Sie die Änderung."
   ]
  },
  {
   "cell_type": "code",
   "execution_count": 17,
   "metadata": {},
   "outputs": [
    {
     "name": "stdout",
     "output_type": "stream",
     "text": [
      "Fehler: Eine Person mit dem Namen 'Charlie' existiert bereits.\n",
      "Fehler: Eine Person mit dem Namen 'Alice' existiert bereits.\n",
      "ID: 1, Name: Alice\n",
      "ID: 2, Name: Robert\n",
      "ID: 3, Name: Charlie\n",
      "ID: 4, Name: Alice\n",
      "ID: 5, Name: Alice\n",
      "ID: 6, Name: Robert\n",
      "ID: 7, Name: Charlie\n",
      "ID: 8, Name: Alice\n",
      "ID: 9, Name: Alice\n",
      "ID: 10, Name: Bob\n",
      "ID: 11, Name: Charlie\n",
      "ID: 12, Name: Alice\n",
      "ID: 13, Name: Alice\n",
      "ID: 14, Name: Bob\n",
      "ID: 1, Name: Alice\n",
      "ID: 2, Name: Robert\n",
      "ID: 3, Name: Charlie\n",
      "ID: 4, Name: Alice\n",
      "ID: 5, Name: Alice\n",
      "ID: 6, Name: Robert\n",
      "ID: 7, Name: Charlie\n",
      "ID: 8, Name: Alice\n",
      "ID: 9, Name: Alice\n",
      "ID: 10, Name: Robert\n",
      "ID: 11, Name: Charlie\n",
      "ID: 12, Name: Alice\n",
      "ID: 13, Name: Alice\n",
      "ID: 14, Name: Bob\n"
     ]
    }
   ],
   "source": [
    "from sqlalchemy import create_engine, Column, Integer, String\n",
    "from sqlalchemy.orm import declarative_base\n",
    "from sqlalchemy.orm import sessionmaker\n",
    "\n",
    "Base = declarative_base()\n",
    "\n",
    "class Person(Base):\n",
    "    __tablename__ = 'person'\n",
    "    id = Column(Integer, primary_key=True)\n",
    "    name = Column(String)\n",
    "\n",
    "engine = create_engine('sqlite:///example.db')\n",
    "Base.metadata.create_all(engine)\n",
    "\n",
    "Session = sessionmaker(bind=engine)\n",
    "session = Session()\n",
    "\n",
    "# Hinzufügen einiger Personen\n",
    "session.add_all([Person(name=\"Alice\"), Person(name=\"Bob\")])\n",
    "session.commit()\n",
    "\n",
    "def add_person(name):\n",
    "    try:\n",
    "        # Überprüfen, ob der Name bereits existiert\n",
    "        existing_person = session.query(Person).filter_by(name=name).first()\n",
    "        if existing_person:\n",
    "            raise ValueError(f\"Eine Person mit dem Namen '{name}' existiert bereits.\")\n",
    "\n",
    "        new_person = Person(name=name)\n",
    "        session.add(new_person)\n",
    "        session.commit()\n",
    "        print(f\"Person '{name}' erfolgreich hinzugefügt.\")\n",
    "    except Exception as e:\n",
    "        session.rollback()\n",
    "        print(f\"Fehler: {e}\")\n",
    "\n",
    "# Test der Funktion\n",
    "add_person(\"Charlie\")\n",
    "add_person(\"Alice\")  # Dies sollte einen Fehler verursachen, da 'Alice' bereits existiert\n",
    "\n",
    "\n",
    "# Abfrage aller Personen\n",
    "people = session.query(Person).all()\n",
    "for person in people:\n",
    "    print(f\"ID: {person.id}, Name: {person.name}\")\n",
    "\n",
    "# Ändern des Namens einer Person\n",
    "person_to_update = session.query(Person).filter_by(name=\"Bob\").first()\n",
    "if person_to_update:\n",
    "    person_to_update.name = \"Robert\"\n",
    "    session.commit()\n",
    "\n",
    "# Erneute Abfrage, um die Änderung zu bestätigen\n",
    "people = session.query(Person).all()\n",
    "for person in people:\n",
    "    print(f\"ID: {person.id}, Name: {person.name}\")\n",
    "\n",
    "# Schließen der Session\n",
    "session.close()\n"
   ]
  }
 ],
 "metadata": {
  "kernelspec": {
   "display_name": ".venv",
   "language": "python",
   "name": "python3"
  },
  "language_info": {
   "codemirror_mode": {
    "name": "ipython",
    "version": 3
   },
   "file_extension": ".py",
   "mimetype": "text/x-python",
   "name": "python",
   "nbconvert_exporter": "python",
   "pygments_lexer": "ipython3",
   "version": "3.11.6"
  }
 },
 "nbformat": 4,
 "nbformat_minor": 2
}
