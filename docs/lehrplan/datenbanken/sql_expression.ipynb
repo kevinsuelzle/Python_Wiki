{
 "cells": [
  {
   "cell_type": "markdown",
   "metadata": {},
   "source": [
    "# Fortgeschrittene ORM-Konzepte\n",
    "## Einführung in die SQL Expression Language\n",
    "[15 min]\n",
    "\n",
    "SQLAlchemy's SQL Expression Language ermöglicht eine detaillierte und flexible Erstellung von SQL-Statements in Python. Es ist ein leistungsstarkes Werkzeug für die direkte Interaktion mit der Datenbank, wobei die volle Flexibilität von SQL genutzt wird.\n",
    "\n",
    "### Kernkonzepte\n",
    "\n",
    "- **Ausdrücke und Statements**: Jedes Element in der SQL Expression Language ist entweder ein Ausdruck (wie eine Spalte oder ein mathematischer Ausdruck) oder ein Statement (wie ein SQL-Befehl).\n",
    "  \n",
    "- **Tabellen und Spalten**: Tabellen werden als `Table`-Objekte repräsentiert, während Spalten als `Column`-Objekte dargestellt werden. Ein `Table`-Objekt wird einer `MetaData`-Instanz zugeordnet, die die Strukturinformationen enthält."
   ]
  },
  {
   "cell_type": "code",
   "execution_count": null,
   "metadata": {},
   "outputs": [],
   "source": [
    "from sqlalchemy import Table, Column, Integer, String, MetaData\n",
    "\n",
    "metadata = MetaData()\n",
    "user_table = Table('user', metadata,\n",
    "                    Column('id', Integer, primary_key=True),\n",
    "                    Column('name', String))"
   ]
  },
  {
   "cell_type": "markdown",
   "metadata": {},
   "source": [
    "- **Select-Statement**: Ein SELECT-Statement wird in SQLAlchemy 1.4+ direkt mit der `select()`-Funktion erstellt, wobei die Spalten direkt als Argumente übergeben werden, ohne eine Liste zu verwenden."
   ]
  },
  {
   "cell_type": "code",
   "execution_count": null,
   "metadata": {},
   "outputs": [],
   "source": [
    "from sqlalchemy.sql import select\n",
    "\n",
    "select_statement = select(user_table.c.name).where(user_table.c.name == 'Alice')"
   ]
  },
  {
   "cell_type": "markdown",
   "metadata": {},
   "source": [
    "## Unterschiede und Gemeinsamkeiten mit dem ORM\n",
    "[15 min]\n",
    "\n",
    "### Gemeinsamkeiten\n",
    "\n",
    "- **Gleiche Datenbank-Abstraktion**: Beide Ansätze basieren auf SQLAlchemy's Engine und Connection-Objekten für die Datenbankinteraktion.\n",
    "  \n",
    "- **Transaktionsmanagement**: Sowohl in der SQL Expression Language als auch im ORM können Transaktionen verwendet werden, um die Datenintegrität zu gewährleisten.\n",
    "\n",
    "### Unterschiede\n",
    "\n",
    "- **Abstraktionsgrad**: Das ORM bietet ein höheres Abstraktionsniveau, indem es die Datenbanktabellen als Klassen und die Zeilen als Objektinstanzen abbildet. Die SQL Expression Language bleibt näher an der eigentlichen SQL-Syntax und ermöglicht präzisere und spezifischere Abfragen.\n",
    "\n",
    "- **Flexibilität vs. Einfachheit**: Das ORM ist für Standard-Operationen einfacher und schneller, während die SQL Expression Language bei komplexen oder speziellen Abfragen mehr Flexibilität bietet.\n",
    "\n",
    "### Beispiel: Unterschiede in der Anwendung\n",
    "\n",
    "- **ORM-Abfrage**:"
   ]
  },
  {
   "cell_type": "code",
   "execution_count": null,
   "metadata": {},
   "outputs": [],
   "source": [
    "for user in session.query(User).filter(User.name == 'Alice'):\n",
    "    print(user.id, user.name)"
   ]
  },
  {
   "cell_type": "markdown",
   "metadata": {},
   "source": [
    "- **SQL Expression Language-Abfrage**:"
   ]
  },
  {
   "cell_type": "code",
   "execution_count": null,
   "metadata": {},
   "outputs": [],
   "source": [
    "  # SQL Expression Language\n",
    "conn = engine.connect()\n",
    "select_statement = select(user_table.c.id, user_table.c.name).where(user_table.c.name == 'Alice')\n",
    "result = conn.execute(select_statement)\n",
    "for row in result:\n",
    "    print(row.id, row.name)"
   ]
  },
  {
   "cell_type": "markdown",
   "metadata": {},
   "source": [
    "### Zusammenfassung\n",
    "\n",
    "Die SQL Expression Language in SQLAlchemy ermöglicht es Ihnen, SQL-Statements direkt in Python zu erstellen, und bietet eine leistungsfähige Alternative zum ORM für komplexe Abfragen und spezielle Datenbankoperationen. Mit der Einführung von SQLAlchemy 1.4+ hat sich die Syntax leicht verändert, wobei die `select()`-Funktion nun direkt Spalten als Argumente akzeptiert, was die Nutzung intuitiver und Pythonischer macht."
   ]
  },
  {
   "cell_type": "markdown",
   "metadata": {},
   "source": [
    "## Übungsaufgabe: Erkundung der SQL Expression Language in SQLAlchemy 🌶️🌶️🌶️\n",
    "[60 min]\n",
    "\n",
    "### Ziel der Aufgabe\n",
    "\n",
    "In dieser Übung werden Sie die Grundlagen der SQL Expression Language in SQLAlchemy erkunden. Sie werden eine Reihe von Abfragen erstellen, die grundlegende SQL-Operationen in SQLAlchemy's SQL Expression Language demonstrieren.\n",
    "\n",
    "### Voraussetzungen\n",
    "\n",
    "Stellen Sie sicher, dass SQLAlchemy in Ihrer Python-Umgebung installiert ist und Sie Grundkenntnisse in Python und SQL haben.\n",
    "\n",
    "### Aufgabenstellung\n",
    "\n",
    "1. **Vorbereitung der Umgebung und Tabellendefinition**:\n",
    "   - Erstellen Sie eine neue SQLite-Datenbank und definieren Sie eine Tabelle `user` mit den Spalten `id` (Integer, Primärschlüssel) und `name` (String).\n",
    "   - Fügen Sie einige Einträge in die `user`-Tabelle ein.\n",
    "\n",
    "2. **Erstellen von Select-Statements**:\n",
    "   - Schreiben Sie ein Select-Statement, um alle Nutzer aus der `user`-Tabelle abzurufen.\n",
    "   - Schreiben Sie ein weiteres Select-Statement, um nur Nutzer mit einem bestimmten Namen (z.B. \"Alice\") abzurufen.\n",
    "\n",
    "3. **Erstellen und Ausführen einer Insert-Operation**:\n",
    "   - Fügen Sie einen neuen Nutzer in die `user`-Tabelle ein.\n",
    "\n",
    "4. **Update- und Delete-Operationen**:\n",
    "   - Aktualisieren Sie den Namen eines Nutzers in der `user`-Tabelle.\n",
    "   - Löschen Sie einen Nutzer aus der `user`-Tabelle.\n",
    "\n",
    "5. **Bonus**: Erstellen Sie eine Unterabfrage, die eine aggregierte Information zurückgibt (z.B. die Gesamtanzahl der Nutzer).\n",
    "\n",
    "### Lösung:"
   ]
  },
  {
   "cell_type": "code",
   "execution_count": 4,
   "metadata": {},
   "outputs": [
    {
     "name": "stdout",
     "output_type": "stream",
     "text": [
      "Alle Nutzer: []\n",
      "Nutzer namens Alice: []\n",
      "Gesamtanzahl der Nutzer: 0\n"
     ]
    }
   ],
   "source": [
    "from sqlalchemy import create_engine, Table, Column, Integer, String, MetaData, select, func\n",
    "\n",
    "# Datenbank und Tabelle erstellen\n",
    "engine = create_engine('sqlite:///db/sql_expression.db')\n",
    "metadata = MetaData()\n",
    "user_table = Table('user', metadata,\n",
    "                   Column('id', Integer, primary_key=True),\n",
    "                   Column('name', String))\n",
    "metadata.create_all(engine)\n",
    "\n",
    "# Einige Nutzer einfügen\n",
    "with engine.connect() as conn:\n",
    "    conn.execute(user_table.insert(), [{'name': 'Alice'}, {'name': 'Bob'}])\n",
    "\n",
    "# Select-Statements\n",
    "with engine.connect() as conn:\n",
    "    # Alle Nutzer abrufen\n",
    "    all_users = conn.execute(select(user_table)).fetchall()\n",
    "    print(\"Alle Nutzer:\", all_users)\n",
    "\n",
    "    # Nutzer mit dem Namen 'Alice' abrufen\n",
    "    alice = conn.execute(select(user_table).where(user_table.c.name == 'Alice')).fetchall()\n",
    "    print(\"Nutzer namens Alice:\", alice)\n",
    "\n",
    "# Einen neuen Nutzer einfügen\n",
    "with engine.connect() as conn:\n",
    "    conn.execute(user_table.insert(), {'name': 'Charlie'})\n",
    "\n",
    "# Einen Nutzer aktualisieren\n",
    "with engine.connect() as conn:\n",
    "    conn.execute(user_table.update().where(user_table.c.name == 'Bob').values(name='Robert'))\n",
    "\n",
    "# Einen Nutzer löschen\n",
    "with engine.connect() as conn:\n",
    "    conn.execute(user_table.delete().where(user_table.c.name == 'Charlie'))\n",
    "\n",
    "# Bonus: Unterabfrage für aggregierte Information\n",
    "with engine.connect() as conn:\n",
    "    user_count = conn.execute(select(func.count()).select_from(user_table)).scalar()\n",
    "    print(\"Gesamtanzahl der Nutzer:\", user_count)\n"
   ]
  },
  {
   "cell_type": "markdown",
   "metadata": {},
   "source": [
    "## CRUD-Operationen mit Expression Language\n",
    "[30 min]\n",
    "\n",
    "In diesem Abschnitt konzentrieren wir uns auf CRUD-Operationen (Create, Read, Update, Delete) unter Verwendung der SQL Expression Language in SQLAlchemy. Diese Operationen sind das Herzstück der Interaktion mit jeder Datenbank und ermöglichen es Ihnen, Daten effektiv zu verwalten.\n",
    "\n",
    "### Erstellen von Daten (Create)\n",
    "\n",
    "Das Erstellen neuer Daten in der Datenbank erfolgt über das `insert`-Statement. Sie können einzelne Datensätze oder mehrere auf einmal einfügen."
   ]
  },
  {
   "cell_type": "code",
   "execution_count": null,
   "metadata": {},
   "outputs": [],
   "source": [
    "from sqlalchemy import insert\n",
    "\n",
    "# Einzelnen Datensatz einfügen\n",
    "insert_stmt = insert(user_table).values(name='Alice')\n",
    "conn.execute(insert_stmt)\n",
    "\n",
    "# Mehrere Datensätze gleichzeitig einfügen\n",
    "conn.execute(user_table.insert(), [\n",
    "    {'name': 'Bob'},\n",
    "    {'name': 'Carol'}\n",
    "])"
   ]
  },
  {
   "cell_type": "markdown",
   "metadata": {},
   "source": [
    "### Lesen von Daten (Read)\n",
    "\n",
    "Das Lesen von Daten, bekannt als Abfrage oder Query, wird mit dem `select`-Statement durchgeführt. Sie können spezifische Spalten auswählen und Bedingungen für die Abfrage festlegen."
   ]
  },
  {
   "cell_type": "code",
   "execution_count": null,
   "metadata": {},
   "outputs": [],
   "source": [
    "from sqlalchemy.sql import select\n",
    "\n",
    "# Alle Datensätze abfragen\n",
    "select_stmt = select(user_table)\n",
    "result = conn.execute(select_stmt)\n",
    "for row in result:\n",
    "    print(row)\n",
    "\n",
    "# Abfrage mit Bedingung\n",
    "select_stmt = select(user_table).where(user_table.c.name == 'Alice')\n",
    "result = conn.execute(select_stmt)\n",
    "for row in result:\n",
    "    print(row)"
   ]
  },
  {
   "cell_type": "markdown",
   "metadata": {},
   "source": [
    "### Aktualisieren von Daten (Update)\n",
    "\n",
    "Das Aktualisieren vorhandener Daten erfolgt über das `update`-Statement. Sie können spezifizieren, welche Spalten aktualisiert werden sollen und unter welchen Bedingungen."
   ]
  },
  {
   "cell_type": "code",
   "execution_count": null,
   "metadata": {},
   "outputs": [],
   "source": [
    "from sqlalchemy import update\n",
    "\n",
    "# Datensatz aktualisieren\n",
    "update_stmt = update(user_table).where(user_table.c.name == 'Alice').values(name='Alicia')\n",
    "conn.execute(update_stmt)"
   ]
  },
  {
   "cell_type": "markdown",
   "metadata": {},
   "source": [
    "### Löschen von Daten (Delete)\n",
    "\n",
    "Das Löschen von Daten aus der Datenbank wird mit dem `delete`-Statement ausgeführt. Sie können Bedingungen angeben, um zu steuern, welche Datensätze gelöscht werden."
   ]
  },
  {
   "cell_type": "code",
   "execution_count": null,
   "metadata": {},
   "outputs": [],
   "source": [
    "from sqlalchemy import delete\n",
    "\n",
    "# Datensatz löschen\n",
    "delete_stmt = delete(user_table).where(user_table.c.name == 'Alicia')\n",
    "conn.execute(delete_stmt)"
   ]
  },
  {
   "cell_type": "markdown",
   "metadata": {},
   "source": [
    "### Umgang mit Bulk-Operationen\n",
    "\n",
    "Bulk-Operationen sind nützlich, wenn Sie eine große Anzahl von Datensätzen einfügen, aktualisieren oder löschen müssen. SQLAlchemy bietet Methoden, um solche Operationen effizient zu handhaben."
   ]
  },
  {
   "cell_type": "code",
   "execution_count": null,
   "metadata": {},
   "outputs": [],
   "source": [
    "# Bulk-Insert\n",
    "conn.execute(user_table.insert(), [\n",
    "    {'name': 'Dave'},\n",
    "    {'name': 'Eve'},\n",
    "    {'name': 'Frank'}\n",
    "])\n",
    "\n",
    "# Bulk-Update (vorsicht, aktualisiert alle Zeilen, wenn keine Where-Bedingung angegeben ist)\n",
    "conn.execute(update(user_table).values(name='Unknown'))\n",
    "\n",
    "# Bulk-Delete\n",
    "conn.execute(delete(user_table).where(user_table.c.name == 'Unknown'))"
   ]
  },
  {
   "cell_type": "markdown",
   "metadata": {},
   "source": [
    "### Zusammenfassung\n",
    "\n",
    "CRUD-Operationen bilden die Grundlage der Datenbankinteraktion in SQLAlchemy's SQL Expression Language. Sie ermöglichen es Ihnen, Daten effizient zu erstellen, abzufragen, zu aktualisieren und zu löschen. Bulk-Operationen erweitern diese Funktionalität, indem sie die Bearbeitung großer Datensätze optimieren. Durch das Erlernen dieser Grundlagen können Sie die Daten in Ihrer Anwendung effektiv verwalten und manipulieren."
   ]
  },
  {
   "cell_type": "markdown",
   "metadata": {},
   "source": [
    "## Übungsaufgabe: CRUD-Operationen mit SQL Expression Language 🌶️🌶️\n",
    "[60 min]\n",
    "\n",
    "### Ziel der Aufgabe\n",
    "\n",
    "In dieser Übung werden Sie die CRUD-Operationen (Create, Read, Update, Delete) mit der SQL Expression Language in SQLAlchemy praktisch anwenden. Sie erstellen eine Tabelle, fügen Daten hinzu, lesen diese Daten aus, aktualisieren sie und führen schließlich eine Löschoperation durch.\n",
    "\n",
    "### Aufgabenstellung\n",
    "\n",
    "1. **Tabellenerstellung**:\n",
    "   - Definieren Sie eine Tabelle `book` mit den Spalten `id` (Integer, Primärschlüssel) und `title` (String).\n",
    "   - Erstellen Sie die Tabelle in einer SQLite-Datenbank.\n",
    "\n",
    "2. **Daten einfügen (Create)**:\n",
    "   - Fügen Sie mindestens drei Bücher in die `book`-Tabelle ein.\n",
    "\n",
    "3. **Daten abfragen (Read)**:\n",
    "   - Führen Sie eine Abfrage durch, um alle Bücher in der Tabelle anzuzeigen.\n",
    "\n",
    "4. **Daten aktualisieren (Update)**:\n",
    "   - Aktualisieren Sie den Titel eines Buches.\n",
    "\n",
    "5. **Daten löschen (Delete)**:\n",
    "   - Löschen Sie ein Buch aus der Tabelle.\n",
    "\n",
    "6. **Ausgabe der Daten**:\n",
    "   - Führen Sie eine Abfrage durch, um alle Bücher in der Tabelle anzuzeigen.\n",
    "\n",
    "7. **Bonus**: Führen Sie eine Bulk-Insert-Operation durch, um mehrere Bücher gleichzeitig hinzuzufügen.\n",
    "\n",
    "### Lösung zur Übungsaufgabe"
   ]
  },
  {
   "cell_type": "code",
   "execution_count": 13,
   "metadata": {},
   "outputs": [
    {
     "name": "stdout",
     "output_type": "stream",
     "text": [
      "Vor Update und Delete:\n",
      "(1, 'Book 1')\n",
      "(2, 'Book 2')\n",
      "(3, 'Book 3')\n",
      "Nach Update und Delete:\n",
      "(1, 'Updated Book 1')\n",
      "(3, 'Book 3')\n",
      "(4, 'Book 4')\n",
      "(5, 'Book 5')\n"
     ]
    }
   ],
   "source": [
    "from sqlalchemy import create_engine, Table, Column, Integer, String, MetaData, select, insert, update, delete\n",
    "\n",
    "# Datenbank und Tabelle erstellen\n",
    "engine = create_engine('sqlite:///db/books_crud.db')\n",
    "metadata = MetaData()\n",
    "book_table = Table('book', metadata,\n",
    "                   Column('id', Integer, primary_key=True),\n",
    "                   Column('title', String))\n",
    "metadata.create_all(engine)\n",
    "\n",
    "# Verbindung zur Datenbank herstellen\n",
    "conn = engine.connect()\n",
    "\n",
    "# Einige Bücher einfügen\n",
    "conn.execute(insert(book_table), [{'title': 'Book 1'}, {'title': 'Book 2'}, {'title': 'Book 3'}])\n",
    "\n",
    "# Alle Bücher abfragen und ausgeben\n",
    "result = conn.execute(select(book_table))\n",
    "print(\"Vor Update und Delete:\")\n",
    "for row in result:\n",
    "    print(row)\n",
    "\n",
    "# Einen Buchtitel aktualisieren\n",
    "conn.execute(update(book_table).where(book_table.c.title == 'Book 1').values(title='Updated Book 1'))\n",
    "\n",
    "# Ein Buch löschen\n",
    "conn.execute(delete(book_table).where(book_table.c.title == 'Book 2'))\n",
    "\n",
    "# Bonus: Bulk-Insert\n",
    "conn.execute(insert(book_table), [{'title': 'Book 4'}, {'title': 'Book 5'}])\n",
    "\n",
    "# Ausgabe der Daten nach Update und Delete\n",
    "result = conn.execute(select(book_table))\n",
    "print(\"Nach Update und Delete:\")\n",
    "for row in result:\n",
    "    print(row)\n",
    "\n",
    "# Verbindung schließen\n",
    "conn.close()\n"
   ]
  },
  {
   "cell_type": "markdown",
   "metadata": {},
   "source": [
    "## Erweiterte Funktionen und Performance\n",
    "[30 min]\n",
    "\n",
    "In diesem Abschnitt befassen wir uns mit fortgeschrittenen Techniken in SQLAlchemy, die darauf abzielen, die Performance zu optimieren und erweiterte Datenbankfunktionen zu nutzen. Dazu gehören die Indexierung zur Beschleunigung von Abfragen, das Performance-Tuning und die Verwendung von Funktionen und Stored Procedures.\n",
    "\n",
    "### Einsatz von Indexierung und Performance-Tuning\n",
    "\n",
    "#### Indexierung\n",
    "\n",
    "Indexe in einer Datenbank verbessern die Geschwindigkeit der Datenabrufe, können aber das Einfügen, Löschen und Aktualisieren von Daten verlangsamen. SQLAlchemy ermöglicht es Ihnen, Indexe in Ihren Tabellendefinitionen zu spezifizieren."
   ]
  },
  {
   "cell_type": "code",
   "execution_count": null,
   "metadata": {},
   "outputs": [],
   "source": [
    "from sqlalchemy import Index\n",
    "\n",
    "class User(Base):\n",
    "    __tablename__ = 'user'\n",
    "    id = Column(Integer, primary_key=True)\n",
    "    name = Column(String, index=True)  # Einen Index für die Spalte 'name' erstellen\n",
    "\n",
    "# Erstellen eines expliziten Indexes\n",
    "Index('my_index', User.name)"
   ]
  },
  {
   "cell_type": "markdown",
   "metadata": {},
   "source": [
    "#### Performance-Tuning\n",
    "\n",
    "- **Eager Loading**: SQLAlchemy lädt standardmäßig Beziehungen \"lazy\", d.h., es werden separate Queries ausgeführt, wenn auf eine Beziehung zugegriffen wird. Eager Loading kann diese Abfragen reduzieren."
   ]
  },
  {
   "cell_type": "code",
   "execution_count": null,
   "metadata": {},
   "outputs": [],
   "source": [
    "from sqlalchemy.orm import joinedload\n",
    "\n",
    "users = session.query(User).options(joinedload(User.posts)).all()"
   ]
  },
  {
   "cell_type": "markdown",
   "metadata": {},
   "source": [
    "- **Batching**: Beim Einfügen oder Aktualisieren vieler Datensätze können Batch-Operationen die Performance verbessern."
   ]
  },
  {
   "cell_type": "code",
   "execution_count": null,
   "metadata": {},
   "outputs": [],
   "source": [
    "session.bulk_insert_mappings(User, [{'name': 'name1'}, {'name': 'name2'}])"
   ]
  },
  {
   "cell_type": "markdown",
   "metadata": {},
   "source": [
    "### Verwendung von Funktionen und Stored Procedures\n",
    "\n",
    "#### Funktionen\n",
    "\n",
    "SQLAlchemy ermöglicht den Aufruf von Datenbankfunktionen direkt aus dem Query. Dies kann für Aggregationsfunktionen oder spezifische Datenbankoperationen genutzt werden."
   ]
  },
  {
   "cell_type": "code",
   "execution_count": null,
   "metadata": {},
   "outputs": [],
   "source": [
    "from sqlalchemy.sql import func\n",
    "\n",
    "# Aggregationsfunktion verwenden\n",
    "user_count = session.query(func.count(User.id)).scalar()"
   ]
  },
  {
   "cell_type": "markdown",
   "metadata": {},
   "source": [
    "#### Stored Procedures\n",
    "\n",
    "Stored Procedures sind auf der Datenbank gespeicherte Programme, die mit SQLAlchemy aufgerufen werden können. Dies erfolgt meist über rohe SQL-Statements."
   ]
  },
  {
   "cell_type": "code",
   "execution_count": null,
   "metadata": {},
   "outputs": [],
   "source": [
    "# Stored Procedure aufrufen\n",
    "conn = engine.connect()\n",
    "result = conn.execute(\"CALL my_stored_procedure()\")\n",
    "for row in result:\n",
    "    print(row)"
   ]
  },
  {
   "cell_type": "markdown",
   "metadata": {},
   "source": [
    "### Zusammenfassung\n",
    "\n",
    "Die Verwendung von Indexierung und Performance-Tuning-Techniken kann die Effizienz Ihrer Anwendung erheblich verbessern, insbesondere bei großen Datenmengen. Ebenso ermöglicht die Nutzung von Funktionen und Stored Procedures eine erweiterte Interaktion mit der Datenbank, die über einfache CRUD-Operationen hinausgeht. SQLAlchemy bietet eine reichhaltige Palette an Möglichkeiten, um diese fortgeschrittenen Features effektiv zu nutzen."
   ]
  },
  {
   "cell_type": "markdown",
   "metadata": {},
   "source": [
    "## Übungsaufgabe: Erweiterte Funktionen und Performance in SQLAlchemy 🌶️🌶️🌶️\n",
    "[60 min]\n",
    "\n",
    "### Ziel der Aufgabe\n",
    "\n",
    "In dieser Übung werden Sie die erweiterten Funktionen und Performance-Optimierung in SQLAlchemy anhand von reinem Python-Code erforschen. Sie werden eine Tabelle mit Indexierung erstellen, Eager Loading anwenden und die Auswirkungen auf die Performance beobachten.\n",
    "\n",
    "### Aufgabenstellung\n",
    "\n",
    "1. **Tabellenerstellung mit Index**:\n",
    "   - Erstellen Sie eine Tabelle `employee` mit den Spalten `id`, `name` und `department`.\n",
    "   - Fügen Sie einen Index auf die Spalte `department` hinzu und beobachten Sie die Auswirkungen auf Abfragegeschwindigkeiten.\n",
    "\n",
    "2. **Eager Loading vs. Lazy Loading**:\n",
    "   - Erstellen Sie zwei Tabellen `author` und `book`, wobei `author` eine One-to-Many-Beziehung zu `book` hat.\n",
    "   - Führen Sie Abfragen durch, um alle Autoren und ihre Bücher zu laden, einmal mit Lazy Loading und einmal mit Eager Loading (verwenden Sie `joinedload`).\n",
    "\n",
    "3. **Performance-Messung**:\n",
    "   - Messen Sie die Ausführungszeit für beide Abfragen (Lazy Loading und Eager Loading) und vergleichen Sie die Ergebnisse.\n",
    "\n",
    "### Lösung zur Übungsaufgabe"
   ]
  },
  {
   "cell_type": "code",
   "execution_count": 15,
   "metadata": {},
   "outputs": [
    {
     "name": "stdout",
     "output_type": "stream",
     "text": [
      "Lazy Loading Zeit: 1.1391639709472656  ms\n",
      "Eager Loading Zeit: 2.4099349975585938  ms\n"
     ]
    }
   ],
   "source": [
    "from sqlalchemy import create_engine, Table, Column, Integer, String, ForeignKey, MetaData, Index\n",
    "from sqlalchemy.orm import declarative_base, relationship, sessionmaker, joinedload\n",
    "import time\n",
    "\n",
    "# Datenbank-Engine und Metadaten-Objekt erstellen\n",
    "engine = create_engine('sqlite:///db/company_loading.db')\n",
    "metadata = MetaData()\n",
    "\n",
    "# Basis für ORM-Modelle definieren\n",
    "Base = declarative_base()\n",
    "\n",
    "# Tabellendefinitionen\n",
    "class Author(Base):\n",
    "    __tablename__ = 'author'\n",
    "    id = Column(Integer, primary_key=True)\n",
    "    name = Column(String)\n",
    "    books = relationship(\"Book\", backref=\"author\")\n",
    "\n",
    "class Book(Base):\n",
    "    __tablename__ = 'book'\n",
    "    id = Column(Integer, primary_key=True)\n",
    "    title = Column(String)\n",
    "    author_id = Column(Integer, ForeignKey('author.id'))\n",
    "\n",
    "# Tabellen erstellen\n",
    "Base.metadata.create_all(engine)\n",
    "\n",
    "# Session-Setup\n",
    "Session = sessionmaker(bind=engine)\n",
    "session = Session()\n",
    "\n",
    "# Beispieldaten hinzufügen\n",
    "author1 = Author(name='Autor 1')\n",
    "author2 = Author(name='Autor 2')\n",
    "session.add_all([author1, author2])\n",
    "session.commit()\n",
    "\n",
    "book1 = Book(title='Buch 1 von Autor 1', author_id=author1.id)\n",
    "book2 = Book(title='Buch 2 von Autor 1', author_id=author1.id)\n",
    "book3 = Book(title='Buch 1 von Autor 2', author_id=author2.id)\n",
    "session.add_all([book1, book2, book3])\n",
    "session.commit()\n",
    "\n",
    "# Lazy Loading Zeit messen\n",
    "start_time = time.time()\n",
    "lazy_authors = session.query(Author).all()\n",
    "lazy_loading_time = (time.time() - start_time) * 1000\n",
    "print(\"Lazy Loading Zeit:\", lazy_loading_time, \" ms\")\n",
    "\n",
    "# Eager Loading Zeit messen\n",
    "start_time = time.time()\n",
    "eager_authors = session.query(Author).options(joinedload(Author.books)).all()\n",
    "eager_loading_time = (time.time() - start_time) * 1000\n",
    "print(\"Eager Loading Zeit:\", eager_loading_time, \" ms\")\n",
    "\n",
    "# Session schließen\n",
    "session.close()"
   ]
  }
 ],
 "metadata": {
  "kernelspec": {
   "display_name": ".venv",
   "language": "python",
   "name": "python3"
  },
  "language_info": {
   "codemirror_mode": {
    "name": "ipython",
    "version": 3
   },
   "file_extension": ".py",
   "mimetype": "text/x-python",
   "name": "python",
   "nbconvert_exporter": "python",
   "pygments_lexer": "ipython3",
   "version": "3.11.6"
  }
 },
 "nbformat": 4,
 "nbformat_minor": 2
}
